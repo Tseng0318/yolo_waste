{
  "nbformat": 4,
  "nbformat_minor": 0,
  "metadata": {
    "colab": {
      "provenance": [],
      "gpuType": "T4",
      "authorship_tag": "ABX9TyOsvsY+S7C4GzgXhvTwo96T",
      "include_colab_link": true
    },
    "kernelspec": {
      "name": "python3",
      "display_name": "Python 3"
    },
    "language_info": {
      "name": "python"
    },
    "accelerator": "GPU"
  },
  "cells": [
    {
      "cell_type": "markdown",
      "metadata": {
        "id": "view-in-github",
        "colab_type": "text"
      },
      "source": [
        "<a href=\"https://colab.research.google.com/github/Tseng0318/yolo_waste/blob/main/fine_tune.ipynb\" target=\"_parent\"><img src=\"https://colab.research.google.com/assets/colab-badge.svg\" alt=\"Open In Colab\"/></a>"
      ]
    },
    {
      "cell_type": "code",
      "execution_count": 1,
      "metadata": {
        "colab": {
          "base_uri": "https://localhost:8080/"
        },
        "id": "0CJKxyuE5wr5",
        "outputId": "7784ec1b-737d-4bb7-e12e-ecb8955f9248"
      },
      "outputs": [
        {
          "output_type": "stream",
          "name": "stdout",
          "text": [
            "Mounted at /content/drive\n"
          ]
        }
      ],
      "source": [
        "from google.colab import drive\n",
        "drive.mount('/content/drive')"
      ]
    },
    {
      "cell_type": "code",
      "source": [
        "# Define dataset path in Google Drive\n",
        "dataset_drive_path = \"/content/drive/MyDrive/ZeroWaste-Dataset\"\n",
        "\n",
        "# Clone the ZeroWaste dataset (only if not already downloaded)\n",
        "import os\n",
        "\n",
        "if not os.path.exists(dataset_drive_path):\n",
        "    !git clone https://github.com/ZeroWasteML/ZeroWaste-Dataset.git /content/ZeroWaste-Dataset\n",
        "    !mv /content/ZeroWaste-Dataset $dataset_drive_path\n",
        "    print(\"✅ Dataset downloaded and saved to Google Drive!\")\n",
        "else:\n",
        "    print(\"✅ Dataset already exists in Google Drive!\")"
      ],
      "metadata": {
        "colab": {
          "base_uri": "https://localhost:8080/"
        },
        "id": "IJjQvh626TA-",
        "outputId": "5f3f5781-f598-4510-bd5b-8055264c220c"
      },
      "execution_count": 2,
      "outputs": [
        {
          "output_type": "stream",
          "name": "stdout",
          "text": [
            "Cloning into '/content/ZeroWaste-Dataset'...\n",
            "fatal: could not read Username for 'https://github.com': No such device or address\n",
            "mv: cannot stat '/content/ZeroWaste-Dataset': No such file or directory\n",
            "✅ Dataset downloaded and saved to Google Drive!\n"
          ]
        }
      ]
    },
    {
      "cell_type": "code",
      "source": [],
      "metadata": {
        "id": "Z9m8IVpC6ax-"
      },
      "execution_count": null,
      "outputs": []
    }
  ]
}