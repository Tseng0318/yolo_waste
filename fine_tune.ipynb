{
  "cells": [
    {
      "cell_type": "markdown",
      "metadata": {
        "id": "view-in-github",
        "colab_type": "text"
      },
      "source": [
        "<a href=\"https://colab.research.google.com/github/Tseng0318/yolo_waste/blob/main/fine_tune.ipynb\" target=\"_parent\"><img src=\"https://colab.research.google.com/assets/colab-badge.svg\" alt=\"Open In Colab\"/></a>"
      ]
    },
    {
      "cell_type": "code",
      "execution_count": 2,
      "metadata": {
        "colab": {
          "base_uri": "https://localhost:8080/"
        },
        "id": "0CJKxyuE5wr5",
        "outputId": "5509e598-a36e-4b9d-9bce-7e3b8bfb145d"
      },
      "outputs": [
        {
          "output_type": "stream",
          "name": "stdout",
          "text": [
            "Mounted at /content/drive\n"
          ]
        }
      ],
      "source": [
        "from google.colab import drive\n",
        "drive.mount('/content/drive')"
      ]
    },
    {
      "cell_type": "markdown",
      "metadata": {
        "id": "tuR1mQMIxKC2"
      },
      "source": [
        "## Start with extracting and moving data"
      ]
    },
    {
      "cell_type": "code",
      "execution_count": null,
      "metadata": {
        "colab": {
          "base_uri": "https://localhost:8080/"
        },
        "id": "kHSw8z3O4Frp",
        "outputId": "8e97fbb9-8f03-47bb-d013-4c35fdaa2765"
      },
      "outputs": [
        {
          "name": "stdout",
          "output_type": "stream",
          "text": [
            "\n",
            "📂 Files and Folders in Google Drive:\n"
          ]
        }
      ],
      "source": [
        "import os\n",
        "\n",
        "drive_path = \"/content/drive/MyDrive/Zero_Waste\"\n",
        "\n",
        "print(\"\\nFiles and Folders in Google Drive:\")\n",
        "for root, dirs, files in os.walk(drive_path):\n",
        "    for file in files:\n",
        "        print(f\"{os.path.join(root, file)}\")"
      ]
    },
    {
      "cell_type": "code",
      "execution_count": null,
      "metadata": {
        "colab": {
          "base_uri": "https://localhost:8080/"
        },
        "id": "Z9m8IVpC6ax-",
        "outputId": "c922cf67-36e1-421b-e314-444c7b2bbe6b"
      },
      "outputs": [
        {
          "name": "stdout",
          "output_type": "stream",
          "text": [
            "Done extracting\n"
          ]
        }
      ],
      "source": [
        "import zipfile\n",
        "dataset_path = \"/content/drive/MyDrive/Zero_Waste\"\n",
        "\n",
        "with zipfile.ZipFile(f\"{dataset_path}/zerowaste-f.zip\", 'r') as zip_ref:\n",
        "    zip_ref.extractall(dataset_path)\n",
        "\n",
        "print('Done extracting')"
      ]
    },
    {
      "cell_type": "markdown",
      "metadata": {
        "id": "KJhhgFB8xOuU"
      },
      "source": [
        "## Start converting json to txt"
      ]
    },
    {
      "cell_type": "code",
      "execution_count": null,
      "metadata": {
        "id": "JQ9MaiaExwjk"
      },
      "outputs": [],
      "source": [
        "import json"
      ]
    },
    {
      "cell_type": "code",
      "execution_count": null,
      "metadata": {
        "colab": {
          "base_uri": "https://localhost:8080/"
        },
        "id": "5n4AneMpxi_a",
        "outputId": "083bbdc3-979b-4a15-d06b-3d3bfc6c7b8d"
      },
      "outputs": [
        {
          "name": "stdout",
          "output_type": "stream",
          "text": [
            "✅ Converted 18002 annotations to YOLO format with correct image names!\n",
            "✅ Converted 3687 annotations to YOLO format with correct image names!\n",
            "✅ Converted 5077 annotations to YOLO format with correct image names!\n"
          ]
        }
      ],
      "source": [
        "def convert_coco_to_yolo(json_path, images_folder, labels_folder):\n",
        "    os.makedirs(labels_folder, exist_ok=True)\n",
        "\n",
        "    # Load COCO JSON\n",
        "    with open(json_path, \"r\") as f:\n",
        "        data = json.load(f)\n",
        "\n",
        "    # Create a mapping from image_id to its actual filename (without extension)\n",
        "    image_id_to_filename = {img[\"id\"]: os.path.splitext(img[\"file_name\"])[0] for img in data[\"images\"]}\n",
        "\n",
        "    # Process each annotation\n",
        "    for annotation in data[\"annotations\"]:\n",
        "        image_id = annotation[\"image_id\"]\n",
        "        category_id = annotation[\"category_id\"]\n",
        "        bbox = annotation[\"bbox\"]  # COCO format: [x_min, y_min, width, height]\n",
        "\n",
        "        # Convert COCO bbox to YOLO format\n",
        "        x_min, y_min, width, height = bbox\n",
        "        x_center = (x_min + width / 2) / 1280  # Normalize (assuming width = 1280)\n",
        "        y_center = (y_min + height / 2) / 720  # Normalize (assuming height = 720)\n",
        "        width /= 1280\n",
        "        height /= 720\n",
        "\n",
        "        # Ensure we get the correct filename\n",
        "        if image_id in image_id_to_filename:\n",
        "            correct_filename = image_id_to_filename[image_id]  # Matches the corresponding PNG filename\n",
        "\n",
        "            label_file = os.path.join(labels_folder, f\"{correct_filename}.txt\")\n",
        "            with open(label_file, \"a\") as f:\n",
        "                f.write(f\"{category_id - 1} {x_center:.6f} {y_center:.6f} {width:.6f} {height:.6f}\\n\")\n",
        "\n",
        "    print(f\"✅ Converted {len(data['annotations'])} annotations to YOLO format with correct image names!\")\n",
        "\n",
        "# Convert labels for train, val, and test while ensuring filenames match\n",
        "for split in [\"train\", \"val\", \"test\"]:\n",
        "    convert_coco_to_yolo(f\"/content/drive/MyDrive/Zero_Waste/{split}/labels.json\",\n",
        "                         f\"/content/drive/MyDrive/Zero_Waste/{split}/data\",\n",
        "                         f\"/content/drive/MyDrive/Zero_Waste/{split}/labels\")"
      ]
    },
    {
      "cell_type": "code",
      "execution_count": null,
      "metadata": {
        "id": "CV2CWib8N3mt"
      },
      "outputs": [],
      "source": [
        "# import json\n",
        "# import os\n",
        "# from tqdm import tqdm\n",
        "\n",
        "# # Define dataset path\n",
        "# dataset_path = \"/content/drive/MyDrive/Zero_Waste/ZeroWaste-Dataset\"\n",
        "# splits = [\"train\", \"val\", \"test\"]\n",
        "\n",
        "# # Updated class mapping based on your dataset\n",
        "# category_map = {1: 0, 2: 1, 3: 2, 4: 3}  # COCO category_id → YOLO class_id\n",
        "\n",
        "# # Function to convert COCO JSON to YOLO format\n",
        "# def convert_coco_to_yolo(json_path, images_folder, labels_folder):\n",
        "#     os.makedirs(labels_folder, exist_ok=True)  # Create labels folder if not exists\n",
        "\n",
        "#     # Load COCO JSON file\n",
        "#     with open(json_path, \"r\") as f:\n",
        "#         data = json.load(f)\n",
        "\n",
        "#     # Convert each annotation\n",
        "#     for annotation in tqdm(data[\"annotations\"], desc=f\"Processing {json_path}\"):\n",
        "#         image_id = annotation.get(\"image_id\")\n",
        "#         category_id = annotation.get(\"category_id\")\n",
        "#         bbox = annotation.get(\"bbox\", [])  # COCO format: [x, y, width, height]\n",
        "\n",
        "#         # Skip invalid bounding boxes\n",
        "#         if not bbox or category_id not in category_map:\n",
        "#             continue\n",
        "\n",
        "#         # Find corresponding image\n",
        "#         image_info = next((img for img in data[\"images\"] if img[\"id\"] == image_id), None)\n",
        "#         if not image_info:\n",
        "#             continue\n",
        "\n",
        "#         image_width, image_height = image_info[\"width\"], image_info[\"height\"]\n",
        "#         image_filename = image_info[\"file_name\"].replace(\".jpg\", \".txt\")\n",
        "\n",
        "#         # Convert bounding box to YOLO format\n",
        "#         x_center = (bbox[0] + bbox[2] / 2) / image_width\n",
        "#         y_center = (bbox[1] + bbox[3] / 2) / image_height\n",
        "#         width = bbox[2] / image_width\n",
        "#         height = bbox[3] / image_height\n",
        "\n",
        "#         # Get YOLO class ID\n",
        "#         class_id = category_map[category_id]\n",
        "\n",
        "#         # Save YOLO label\n",
        "#         yolo_label = f\"{class_id} {x_center} {y_center} {width} {height}\\n\"\n",
        "#         label_path = os.path.join(labels_folder, image_filename)\n",
        "\n",
        "#         with open(label_path, \"a\") as f:\n",
        "#             f.write(yolo_label)\n",
        "\n",
        "# # Convert JSON labels for train, val, and test splits\n",
        "# for split in splits:\n",
        "#     json_path = os.path.join(dataset_path, split, \"labels.json\")  # Correct filename\n",
        "#     images_folder = os.path.join(dataset_path, split, \"data\")\n",
        "#     labels_folder = os.path.join(dataset_path, split, \"labels\")  # Save YOLO labels here\n",
        "\n",
        "#     convert_coco_to_yolo(json_path, images_folder, labels_folder)\n",
        "\n",
        "# print(\"✅ All COCO labels converted to YOLO format and saved in 'labels/' folders!\")"
      ]
    },
    {
      "cell_type": "code",
      "execution_count": null,
      "metadata": {
        "colab": {
          "base_uri": "https://localhost:8080/"
        },
        "id": "GsXlNegNQ49f",
        "outputId": "bb106517-7ad8-4a18-da3f-0d06dafd35a3"
      },
      "outputs": [
        {
          "name": "stdout",
          "output_type": "stream",
          "text": [
            "Generated YOLO labels: ['01_frame_001160.PNG', '01_frame_001170.PNG', '01_frame_001180.PNG', '01_frame_001190.PNG', '01_frame_001200.PNG', '01_frame_001210.PNG', '01_frame_001220.PNG', '01_frame_001230.PNG', '01_frame_001240.PNG', '01_frame_001250.PNG']\n"
          ]
        }
      ],
      "source": [
        "# # List first 10 label files inside the labels folder of the train split\n",
        "# labels_folder = \"/content/drive/MyDrive/Zero_Waste/ZeroWaste-Dataset/train/labels\"\n",
        "# print(\"Generated YOLO labels:\", os.listdir(labels_folder)[:10])  # Show first 10 labels"
      ]
    },
    {
      "cell_type": "code",
      "execution_count": null,
      "metadata": {
        "colab": {
          "base_uri": "https://localhost:8080/"
        },
        "id": "jAxBxrYHRB-Q",
        "outputId": "e7a072bb-6177-44a8-8421-22c0f92d3aa2"
      },
      "outputs": [
        {
          "name": "stdout",
          "output_type": "stream",
          "text": [
            "✅ All label files renamed to .txt!\n"
          ]
        }
      ],
      "source": [
        "# # Define the path to the labels folder\n",
        "# labels_folder = \"/content/drive/MyDrive/Zero_Waste/ZeroWaste-Dataset/train/labels\"\n",
        "\n",
        "# # Rename all label files from .PNG to .txt\n",
        "# for filename in os.listdir(labels_folder):\n",
        "#     if filename.endswith(\".PNG\"):  # Change .PNG to .txt\n",
        "#         old_path = os.path.join(labels_folder, filename)\n",
        "#         new_path = os.path.join(labels_folder, filename.replace(\".PNG\", \".txt\"))\n",
        "#         os.rename(old_path, new_path)\n",
        "\n",
        "# print(\"✅ All label files renamed to .txt!\")"
      ]
    },
    {
      "cell_type": "code",
      "execution_count": 3,
      "metadata": {
        "id": "ONVS1gdpCAml"
      },
      "outputs": [],
      "source": [
        "# from PIL import Image\n",
        "# from multiprocessing import Pool\n",
        "\n",
        "# def convert_image(image_path):\n",
        "#     \"\"\" Convert a single PNG image to JPG and delete the PNG file only if it exists. \"\"\"\n",
        "#     if image_path.endswith(\".PNG\") or image_path.endswith(\".png\"):\n",
        "#         img = Image.open(image_path).convert(\"RGB\")\n",
        "#         new_path = image_path.replace(\".PNG\", \".jpg\").replace(\".png\", \".jpg\")\n",
        "#         img.save(new_path, \"JPEG\")\n",
        "\n",
        "#         # Check if the PNG file still exists before deleting\n",
        "#         if os.path.exists(image_path):\n",
        "#             os.remove(image_path)\n",
        "#             return f\"✅ Converted & Deleted: {new_path}\"\n",
        "#         else:\n",
        "#             return f\"⚠️ Converted but PNG already deleted: {new_path}\"\n",
        "#     return None\n",
        "\n",
        "# def convert_images_in_folder(folder_path):\n",
        "#     \"\"\" Convert all PNG images in a folder using multiprocessing. \"\"\"\n",
        "#     images = [os.path.join(folder_path, f) for f in os.listdir(folder_path) if f.endswith(\".PNG\") or f.endswith(\".png\")]\n",
        "\n",
        "#     with Pool(processes=os.cpu_count()) as pool:\n",
        "#         results = pool.map(convert_image, images)\n",
        "\n",
        "#     print(\"\\n\".join([r for r in results if r]))\n",
        "\n",
        "# # Convert PNGs in train, val, and test folders\n",
        "# for split in [\"train\", \"val\", \"test\"]:\n",
        "#     convert_images_in_folder(f\"/content/drive/MyDrive/Zero_Waste/{split}/data\")\n",
        "\n",
        "# print(\"✅ All images converted to .jpg successfully!\")"
      ]
    },
    {
      "cell_type": "code",
      "execution_count": null,
      "metadata": {
        "colab": {
          "base_uri": "https://localhost:8080/"
        },
        "id": "7OX7Umb6COMn",
        "outputId": "da0cfc48-5455-4f55-d59f-f0fd9b8dbea7"
      },
      "outputs": [
        {
          "name": "stdout",
          "output_type": "stream",
          "text": [
            "\n",
            "📂 Checking train:\n",
            "✅ 2947 images found.\n",
            "✅ 2947 labels found.\n",
            "\n",
            "📂 Checking val:\n",
            "✅ 571 images found.\n",
            "✅ 571 labels found.\n",
            "\n",
            "📂 Checking test:\n",
            "✅ 899 images found.\n",
            "✅ 899 labels found.\n"
          ]
        }
      ],
      "source": [
        "for split in [\"train\", \"val\", \"test\"]:\n",
        "    image_folder = f\"/content/drive/MyDrive/Zero_Waste/{split}/data\"\n",
        "    label_folder = f\"/content/drive/MyDrive/Zero_Waste/{split}/labels\"\n",
        "\n",
        "    image_files = {f.split('.')[0] for f in os.listdir(image_folder) if f.endswith('.jpg')}\n",
        "    label_files = {f.split('.')[0] for f in os.listdir(label_folder) if f.endswith('.txt')}\n",
        "\n",
        "    missing_labels = image_files - label_files\n",
        "    missing_images = label_files - image_files\n",
        "\n",
        "    print(f\"\\n📂 Checking {split}:\")\n",
        "    print(f\"✅ {len(image_files)} images found.\")\n",
        "    print(f\"✅ {len(label_files)} labels found.\")\n",
        "\n",
        "    if missing_labels:\n",
        "        print(f\"❌ {len(missing_labels)} images without labels! Sample: {list(missing_labels)[:10]}\")\n",
        "    if missing_images:\n",
        "        print(f\"❌ {len(missing_images)} labels without images! Sample: {list(missing_images)[:10]}\")"
      ]
    },
    {
      "cell_type": "code",
      "execution_count": null,
      "metadata": {
        "colab": {
          "base_uri": "https://localhost:8080/"
        },
        "id": "quWJyZj7RheA",
        "outputId": "db4dbfdb-8c37-4e52-f58d-75eedc26e243"
      },
      "outputs": [
        {
          "name": "stdout",
          "output_type": "stream",
          "text": [
            "\n",
            "📂 Checking train:\n",
            "✅ Found file types: {'.jpg'}\n",
            "\n",
            "📂 Checking val:\n",
            "✅ Found file types: {'.jpg'}\n",
            "\n",
            "📂 Checking test:\n",
            "✅ Found file types: {'.jpg'}\n"
          ]
        }
      ],
      "source": [
        "import os\n",
        "for split in [\"train\", \"val\", \"test\"]:\n",
        "    image_folder = f\"/content/drive/MyDrive/Zero_Waste/{split}/data\"\n",
        "    file_types = set([os.path.splitext(f)[1] for f in os.listdir(image_folder)])\n",
        "\n",
        "    print(f\"\\n📂 Checking {split}:\")\n",
        "    print(f\"✅ Found file types: {file_types}\")\n",
        "\n",
        "    if \".PNG\" in file_types or \".png\" in file_types:\n",
        "        print(f\"❌ Warning: Some PNG files were not deleted in {split}!\")"
      ]
    },
    {
      "cell_type": "code",
      "source": [
        "yaml_path = \"/content/drive/MyDrive/Zero_Waste/dataset.yaml\"\n",
        "\n",
        "if os.path.exists(yaml_path):\n",
        "    print(f\"✅ dataset.yaml exists at: {yaml_path}\")\n",
        "else:\n",
        "    print(f\"❌ dataset.yaml NOT found! Check the path.\")\n",
        "with open(yaml_path, \"r\") as f:\n",
        "    print(f.read())"
      ],
      "metadata": {
        "colab": {
          "base_uri": "https://localhost:8080/"
        },
        "id": "91N2HyYETcwZ",
        "outputId": "b3fcfbb7-6de7-4c4e-edaf-33ca9060ef57"
      },
      "execution_count": 10,
      "outputs": [
        {
          "output_type": "stream",
          "name": "stdout",
          "text": [
            "✅ dataset.yaml exists at: /content/drive/MyDrive/Zero_Waste/dataset.yaml\n",
            "\n",
            "# YOLO dataset configuration file\n",
            "\n",
            "path: /content/drive/MyDrive/Zero_Waste  # Root dataset directory\n",
            "train: train/data  # Train images\n",
            "val: val/data  # Validation images\n",
            "test: test/data  # Test images\n",
            "\n",
            "nc: 4  # Number of classes\n",
            "names: ['rigid_plastic', 'cardboard', 'metal', 'soft_plastic']  # Class names\n",
            "\n"
          ]
        }
      ]
    },
    {
      "cell_type": "code",
      "source": [
        "import random\n",
        "\n",
        "label_folder = \"/content/drive/MyDrive/Zero_Waste/train/labels\"\n",
        "label_files = [f for f in os.listdir(label_folder) if f.endswith(\".txt\")]\n",
        "\n",
        "sample_files = random.sample(label_files, min(5, len(label_files)))\n",
        "\n",
        "for file in sample_files:\n",
        "    file_path = os.path.join(label_folder, file)\n",
        "    with open(file_path, \"r\") as f:\n",
        "        lines = f.readlines()\n",
        "        print(f\"\\n📄 {file}:\")\n",
        "        for line in lines[:5]:  # Show first 5 lines\n",
        "            print(line.strip())"
      ],
      "metadata": {
        "colab": {
          "base_uri": "https://localhost:8080/"
        },
        "id": "9v6Ykcg7UT-e",
        "outputId": "371bef42-59ee-4aeb-c8d3-c4b195fcb18c"
      },
      "execution_count": 14,
      "outputs": [
        {
          "output_type": "stream",
          "name": "stdout",
          "text": [
            "\n",
            "📄 07_frame_028100.txt:\n",
            "1 1.387031 1.185694 0.144687 0.406111\n",
            "1 0.641992 1.214514 0.370547 0.570972\n",
            "1 0.567227 0.288333 0.270547 0.576667\n",
            "3 1.449648 0.199792 0.100703 0.248472\n",
            "\n",
            "📄 07_frame_043300.txt:\n",
            "0 0.900313 0.172292 0.181875 0.344583\n",
            "1 0.065977 0.564167 0.131953 0.152222\n",
            "1 1.305703 0.618611 0.388594 0.351667\n",
            "\n",
            "📄 09_frame_045400.txt:\n",
            "0 0.450742 0.759861 0.315234 0.553611\n",
            "1 0.263594 0.416319 0.156094 0.319306\n",
            "0 1.008945 0.107847 0.159609 0.215694\n",
            "3 1.446992 0.388056 0.106016 0.431111\n",
            "3 1.287031 1.241875 0.166719 0.235694\n",
            "\n",
            "📄 05_frame_005760.txt:\n",
            "2 0.074414 0.364375 0.148828 0.283194\n",
            "3 0.185039 0.659653 0.370078 0.433750\n",
            "1 0.933203 1.357500 0.255469 0.285000\n",
            "\n",
            "📄 02_frame_001560.txt:\n",
            "3 0.843711 1.314097 0.256797 0.370139\n",
            "3 0.349922 0.292778 0.684063 0.585278\n",
            "3 0.223203 0.187708 0.446406 0.375417\n",
            "0 1.389883 0.152361 0.220234 0.241111\n",
            "1 0.984648 1.321528 0.319922 0.353333\n"
          ]
        }
      ]
    },
    {
      "cell_type": "code",
      "source": [
        "# normalize the labels\n",
        "def normalize_labels(label_folder, image_folder):\n",
        "    \"\"\" Normalize label values to be between 0 and 1. \"\"\"\n",
        "    for label_file in os.listdir(label_folder):\n",
        "        label_path = os.path.join(label_folder, label_file)\n",
        "        image_path = os.path.join(image_folder, label_file.replace(\".txt\", \".jpg\"))\n",
        "\n",
        "        if not os.path.exists(image_path):\n",
        "            print(f\"⚠️ Warning: No matching image for {label_file}, skipping.\")\n",
        "            continue\n",
        "\n",
        "        with open(label_path, \"r\") as f:\n",
        "            lines = f.readlines()\n",
        "\n",
        "        new_lines = []\n",
        "        for line in lines:\n",
        "            parts = line.strip().split()\n",
        "            class_id = parts[0]\n",
        "            coords = list(map(float, parts[1:]))\n",
        "\n",
        "            # If any value is greater than 1, assume incorrect format and rescale\n",
        "            if any(coord > 1 for coord in coords):\n",
        "                width, height = 640, 640  # Default YOLO image size\n",
        "                coords = [coords[0] / width, coords[1] / height, coords[2] / width, coords[3] / height]\n",
        "\n",
        "            new_lines.append(f\"{class_id} {' '.join(map(str, coords))}\")\n",
        "\n",
        "        with open(label_path, \"w\") as f:\n",
        "            f.write(\"\\n\".join(new_lines))\n",
        "\n",
        "        # print(f\"✅ Normalized: {label_file}\")\n",
        "\n",
        "# Run normalization for all label folders\n",
        "for split in [\"train\", \"val\", \"test\"]:\n",
        "    normalize_labels(\n",
        "        f\"/content/drive/MyDrive/Zero_Waste/{split}/labels\",\n",
        "        f\"/content/drive/MyDrive/Zero_Waste/{split}/data\"\n",
        "    )\n",
        "\n",
        "print(\"✅ All label files have been normalized.\")"
      ],
      "metadata": {
        "colab": {
          "base_uri": "https://localhost:8080/"
        },
        "id": "hFrpa9I7U8rK",
        "outputId": "7d0f079d-37b7-41d0-d42c-442dda00a289"
      },
      "execution_count": 19,
      "outputs": [
        {
          "output_type": "stream",
          "name": "stdout",
          "text": [
            "✅ All label files have been normalized.\n"
          ]
        }
      ]
    },
    {
      "cell_type": "code",
      "source": [
        "yaml_path = \"/content/drive/MyDrive/Zero_Waste/dataset.yaml\"\n",
        "\n",
        "with open(yaml_path, \"r\") as f:\n",
        "    yaml_content = f.read()\n",
        "    print(\"\\n📄 dataset.yaml content:\\n\")\n",
        "    print(yaml_content)"
      ],
      "metadata": {
        "colab": {
          "base_uri": "https://localhost:8080/"
        },
        "id": "I_8MoituYvc3",
        "outputId": "130b9f04-e68d-4b61-a3e4-7179b16dc127"
      },
      "execution_count": 4,
      "outputs": [
        {
          "output_type": "stream",
          "name": "stdout",
          "text": [
            "\n",
            "📄 dataset.yaml content:\n",
            "\n",
            "\n",
            "# YOLO dataset configuration file\n",
            "\n",
            "path: /content/drive/MyDrive/Zero_Waste  # Root dataset directory\n",
            "train: train/images  # Train images\n",
            "val: val/images  # Validation images\n",
            "test: test/images  # Test images\n",
            "\n",
            "nc: 4  # Number of classes\n",
            "names: ['rigid_plastic', 'cardboard', 'metal', 'soft_plastic']  # Class names\n",
            "\n"
          ]
        }
      ]
    },
    {
      "cell_type": "markdown",
      "metadata": {
        "id": "T7BQYnmeRPWl"
      },
      "source": [
        "## Train on YOLO"
      ]
    },
    {
      "cell_type": "code",
      "execution_count": 5,
      "metadata": {
        "colab": {
          "base_uri": "https://localhost:8080/"
        },
        "id": "1nrekOCwRTha",
        "outputId": "4925aaaf-af54-4451-cd1e-0eef8716d74b"
      },
      "outputs": [
        {
          "output_type": "stream",
          "name": "stdout",
          "text": [
            "✅ Fixed dataset.yaml at: /content/drive/MyDrive/Zero_Waste/dataset.yaml\n"
          ]
        }
      ],
      "source": [
        "dataset_yaml = \"\"\"\n",
        "# YOLO dataset configuration file\n",
        "\n",
        "path: /content/drive/MyDrive/Zero_Waste  # Root dataset directory\n",
        "train: train/images  # Train images\n",
        "val: val/images  # Validation images\n",
        "test: test/images  # Test images\n",
        "\n",
        "nc: 4  # Number of classes\n",
        "names: ['rigid_plastic', 'cardboard', 'metal', 'soft_plastic']  # Class names\n",
        "\"\"\"\n",
        "\n",
        "# Save the updated YAML file\n",
        "yaml_path = \"/content/drive/MyDrive/Zero_Waste/dataset.yaml\"\n",
        "\n",
        "with open(yaml_path, \"w\") as f:\n",
        "    f.write(dataset_yaml)\n",
        "\n",
        "print(f\"✅ Fixed dataset.yaml at: {yaml_path}\")"
      ]
    },
    {
      "cell_type": "code",
      "source": [
        "import os\n",
        "\n",
        "for split in [\"train\", \"val\", \"test\"]:\n",
        "    image_folder = f\"/content/drive/MyDrive/Zero_Waste/{split}/images\"\n",
        "\n",
        "    if not os.path.exists(image_folder):\n",
        "        print(f\"❌ Folder missing: {image_folder}\")\n",
        "    else:\n",
        "        jpg_files = [f for f in os.listdir(image_folder) if f.endswith('.jpg')]\n",
        "        print(f\"✅ Found {len(jpg_files)} .jpg images in {image_folder}\")\n",
        "\n",
        "        if len(jpg_files) == 0:\n",
        "            print(f\"⚠️ No images found in {image_folder}!\")"
      ],
      "metadata": {
        "colab": {
          "base_uri": "https://localhost:8080/"
        },
        "id": "ghSwNHCpZcZ_",
        "outputId": "57baa92b-94a9-4853-9489-1f84a550b60b"
      },
      "execution_count": 43,
      "outputs": [
        {
          "output_type": "stream",
          "name": "stdout",
          "text": [
            "✅ Found 2947 .jpg images in /content/drive/MyDrive/Zero_Waste/train/images\n",
            "✅ Found 571 .jpg images in /content/drive/MyDrive/Zero_Waste/val/images\n",
            "✅ Found 899 .jpg images in /content/drive/MyDrive/Zero_Waste/test/images\n"
          ]
        }
      ]
    },
    {
      "cell_type": "code",
      "execution_count": 6,
      "metadata": {
        "colab": {
          "base_uri": "https://localhost:8080/"
        },
        "id": "JRTEPyTyRm82",
        "outputId": "02de12b2-1b08-4d69-de95-36f4409be68d"
      },
      "outputs": [
        {
          "output_type": "stream",
          "name": "stdout",
          "text": [
            "Collecting ultralytics\n",
            "  Downloading ultralytics-8.3.78-py3-none-any.whl.metadata (35 kB)\n",
            "Requirement already satisfied: numpy<=2.1.1,>=1.23.0 in /usr/local/lib/python3.11/dist-packages (from ultralytics) (1.26.4)\n",
            "Requirement already satisfied: matplotlib>=3.3.0 in /usr/local/lib/python3.11/dist-packages (from ultralytics) (3.10.0)\n",
            "Requirement already satisfied: opencv-python>=4.6.0 in /usr/local/lib/python3.11/dist-packages (from ultralytics) (4.11.0.86)\n",
            "Requirement already satisfied: pillow>=7.1.2 in /usr/local/lib/python3.11/dist-packages (from ultralytics) (11.1.0)\n",
            "Requirement already satisfied: pyyaml>=5.3.1 in /usr/local/lib/python3.11/dist-packages (from ultralytics) (6.0.2)\n",
            "Requirement already satisfied: requests>=2.23.0 in /usr/local/lib/python3.11/dist-packages (from ultralytics) (2.32.3)\n",
            "Requirement already satisfied: scipy>=1.4.1 in /usr/local/lib/python3.11/dist-packages (from ultralytics) (1.13.1)\n",
            "Requirement already satisfied: torch>=1.8.0 in /usr/local/lib/python3.11/dist-packages (from ultralytics) (2.5.1+cu124)\n",
            "Requirement already satisfied: torchvision>=0.9.0 in /usr/local/lib/python3.11/dist-packages (from ultralytics) (0.20.1+cu124)\n",
            "Requirement already satisfied: tqdm>=4.64.0 in /usr/local/lib/python3.11/dist-packages (from ultralytics) (4.67.1)\n",
            "Requirement already satisfied: psutil in /usr/local/lib/python3.11/dist-packages (from ultralytics) (5.9.5)\n",
            "Requirement already satisfied: py-cpuinfo in /usr/local/lib/python3.11/dist-packages (from ultralytics) (9.0.0)\n",
            "Requirement already satisfied: pandas>=1.1.4 in /usr/local/lib/python3.11/dist-packages (from ultralytics) (2.2.2)\n",
            "Requirement already satisfied: seaborn>=0.11.0 in /usr/local/lib/python3.11/dist-packages (from ultralytics) (0.13.2)\n",
            "Collecting ultralytics-thop>=2.0.0 (from ultralytics)\n",
            "  Downloading ultralytics_thop-2.0.14-py3-none-any.whl.metadata (9.4 kB)\n",
            "Requirement already satisfied: contourpy>=1.0.1 in /usr/local/lib/python3.11/dist-packages (from matplotlib>=3.3.0->ultralytics) (1.3.1)\n",
            "Requirement already satisfied: cycler>=0.10 in /usr/local/lib/python3.11/dist-packages (from matplotlib>=3.3.0->ultralytics) (0.12.1)\n",
            "Requirement already satisfied: fonttools>=4.22.0 in /usr/local/lib/python3.11/dist-packages (from matplotlib>=3.3.0->ultralytics) (4.56.0)\n",
            "Requirement already satisfied: kiwisolver>=1.3.1 in /usr/local/lib/python3.11/dist-packages (from matplotlib>=3.3.0->ultralytics) (1.4.8)\n",
            "Requirement already satisfied: packaging>=20.0 in /usr/local/lib/python3.11/dist-packages (from matplotlib>=3.3.0->ultralytics) (24.2)\n",
            "Requirement already satisfied: pyparsing>=2.3.1 in /usr/local/lib/python3.11/dist-packages (from matplotlib>=3.3.0->ultralytics) (3.2.1)\n",
            "Requirement already satisfied: python-dateutil>=2.7 in /usr/local/lib/python3.11/dist-packages (from matplotlib>=3.3.0->ultralytics) (2.8.2)\n",
            "Requirement already satisfied: pytz>=2020.1 in /usr/local/lib/python3.11/dist-packages (from pandas>=1.1.4->ultralytics) (2025.1)\n",
            "Requirement already satisfied: tzdata>=2022.7 in /usr/local/lib/python3.11/dist-packages (from pandas>=1.1.4->ultralytics) (2025.1)\n",
            "Requirement already satisfied: charset-normalizer<4,>=2 in /usr/local/lib/python3.11/dist-packages (from requests>=2.23.0->ultralytics) (3.4.1)\n",
            "Requirement already satisfied: idna<4,>=2.5 in /usr/local/lib/python3.11/dist-packages (from requests>=2.23.0->ultralytics) (3.10)\n",
            "Requirement already satisfied: urllib3<3,>=1.21.1 in /usr/local/lib/python3.11/dist-packages (from requests>=2.23.0->ultralytics) (2.3.0)\n",
            "Requirement already satisfied: certifi>=2017.4.17 in /usr/local/lib/python3.11/dist-packages (from requests>=2.23.0->ultralytics) (2025.1.31)\n",
            "Requirement already satisfied: filelock in /usr/local/lib/python3.11/dist-packages (from torch>=1.8.0->ultralytics) (3.17.0)\n",
            "Requirement already satisfied: typing-extensions>=4.8.0 in /usr/local/lib/python3.11/dist-packages (from torch>=1.8.0->ultralytics) (4.12.2)\n",
            "Requirement already satisfied: networkx in /usr/local/lib/python3.11/dist-packages (from torch>=1.8.0->ultralytics) (3.4.2)\n",
            "Requirement already satisfied: jinja2 in /usr/local/lib/python3.11/dist-packages (from torch>=1.8.0->ultralytics) (3.1.5)\n",
            "Requirement already satisfied: fsspec in /usr/local/lib/python3.11/dist-packages (from torch>=1.8.0->ultralytics) (2024.10.0)\n",
            "Collecting nvidia-cuda-nvrtc-cu12==12.4.127 (from torch>=1.8.0->ultralytics)\n",
            "  Downloading nvidia_cuda_nvrtc_cu12-12.4.127-py3-none-manylinux2014_x86_64.whl.metadata (1.5 kB)\n",
            "Collecting nvidia-cuda-runtime-cu12==12.4.127 (from torch>=1.8.0->ultralytics)\n",
            "  Downloading nvidia_cuda_runtime_cu12-12.4.127-py3-none-manylinux2014_x86_64.whl.metadata (1.5 kB)\n",
            "Collecting nvidia-cuda-cupti-cu12==12.4.127 (from torch>=1.8.0->ultralytics)\n",
            "  Downloading nvidia_cuda_cupti_cu12-12.4.127-py3-none-manylinux2014_x86_64.whl.metadata (1.6 kB)\n",
            "Collecting nvidia-cudnn-cu12==9.1.0.70 (from torch>=1.8.0->ultralytics)\n",
            "  Downloading nvidia_cudnn_cu12-9.1.0.70-py3-none-manylinux2014_x86_64.whl.metadata (1.6 kB)\n",
            "Collecting nvidia-cublas-cu12==12.4.5.8 (from torch>=1.8.0->ultralytics)\n",
            "  Downloading nvidia_cublas_cu12-12.4.5.8-py3-none-manylinux2014_x86_64.whl.metadata (1.5 kB)\n",
            "Collecting nvidia-cufft-cu12==11.2.1.3 (from torch>=1.8.0->ultralytics)\n",
            "  Downloading nvidia_cufft_cu12-11.2.1.3-py3-none-manylinux2014_x86_64.whl.metadata (1.5 kB)\n",
            "Collecting nvidia-curand-cu12==10.3.5.147 (from torch>=1.8.0->ultralytics)\n",
            "  Downloading nvidia_curand_cu12-10.3.5.147-py3-none-manylinux2014_x86_64.whl.metadata (1.5 kB)\n",
            "Collecting nvidia-cusolver-cu12==11.6.1.9 (from torch>=1.8.0->ultralytics)\n",
            "  Downloading nvidia_cusolver_cu12-11.6.1.9-py3-none-manylinux2014_x86_64.whl.metadata (1.6 kB)\n",
            "Collecting nvidia-cusparse-cu12==12.3.1.170 (from torch>=1.8.0->ultralytics)\n",
            "  Downloading nvidia_cusparse_cu12-12.3.1.170-py3-none-manylinux2014_x86_64.whl.metadata (1.6 kB)\n",
            "Requirement already satisfied: nvidia-nccl-cu12==2.21.5 in /usr/local/lib/python3.11/dist-packages (from torch>=1.8.0->ultralytics) (2.21.5)\n",
            "Requirement already satisfied: nvidia-nvtx-cu12==12.4.127 in /usr/local/lib/python3.11/dist-packages (from torch>=1.8.0->ultralytics) (12.4.127)\n",
            "Collecting nvidia-nvjitlink-cu12==12.4.127 (from torch>=1.8.0->ultralytics)\n",
            "  Downloading nvidia_nvjitlink_cu12-12.4.127-py3-none-manylinux2014_x86_64.whl.metadata (1.5 kB)\n",
            "Requirement already satisfied: triton==3.1.0 in /usr/local/lib/python3.11/dist-packages (from torch>=1.8.0->ultralytics) (3.1.0)\n",
            "Requirement already satisfied: sympy==1.13.1 in /usr/local/lib/python3.11/dist-packages (from torch>=1.8.0->ultralytics) (1.13.1)\n",
            "Requirement already satisfied: mpmath<1.4,>=1.1.0 in /usr/local/lib/python3.11/dist-packages (from sympy==1.13.1->torch>=1.8.0->ultralytics) (1.3.0)\n",
            "Requirement already satisfied: six>=1.5 in /usr/local/lib/python3.11/dist-packages (from python-dateutil>=2.7->matplotlib>=3.3.0->ultralytics) (1.17.0)\n",
            "Requirement already satisfied: MarkupSafe>=2.0 in /usr/local/lib/python3.11/dist-packages (from jinja2->torch>=1.8.0->ultralytics) (3.0.2)\n",
            "Downloading ultralytics-8.3.78-py3-none-any.whl (921 kB)\n",
            "\u001b[2K   \u001b[90m━━━━━━━━━━━━━━━━━━━━━━━━━━━━━━━━━━━━━━━━\u001b[0m \u001b[32m921.5/921.5 kB\u001b[0m \u001b[31m25.8 MB/s\u001b[0m eta \u001b[36m0:00:00\u001b[0m\n",
            "\u001b[?25hDownloading nvidia_cublas_cu12-12.4.5.8-py3-none-manylinux2014_x86_64.whl (363.4 MB)\n",
            "\u001b[2K   \u001b[90m━━━━━━━━━━━━━━━━━━━━━━━━━━━━━━━━━━━━━━━━\u001b[0m \u001b[32m363.4/363.4 MB\u001b[0m \u001b[31m3.8 MB/s\u001b[0m eta \u001b[36m0:00:00\u001b[0m\n",
            "\u001b[?25hDownloading nvidia_cuda_cupti_cu12-12.4.127-py3-none-manylinux2014_x86_64.whl (13.8 MB)\n",
            "\u001b[2K   \u001b[90m━━━━━━━━━━━━━━━━━━━━━━━━━━━━━━━━━━━━━━━━\u001b[0m \u001b[32m13.8/13.8 MB\u001b[0m \u001b[31m100.7 MB/s\u001b[0m eta \u001b[36m0:00:00\u001b[0m\n",
            "\u001b[?25hDownloading nvidia_cuda_nvrtc_cu12-12.4.127-py3-none-manylinux2014_x86_64.whl (24.6 MB)\n",
            "\u001b[2K   \u001b[90m━━━━━━━━━━━━━━━━━━━━━━━━━━━━━━━━━━━━━━━━\u001b[0m \u001b[32m24.6/24.6 MB\u001b[0m \u001b[31m80.0 MB/s\u001b[0m eta \u001b[36m0:00:00\u001b[0m\n",
            "\u001b[?25hDownloading nvidia_cuda_runtime_cu12-12.4.127-py3-none-manylinux2014_x86_64.whl (883 kB)\n",
            "\u001b[2K   \u001b[90m━━━━━━━━━━━━━━━━━━━━━━━━━━━━━━━━━━━━━━━━\u001b[0m \u001b[32m883.7/883.7 kB\u001b[0m \u001b[31m52.3 MB/s\u001b[0m eta \u001b[36m0:00:00\u001b[0m\n",
            "\u001b[?25hDownloading nvidia_cudnn_cu12-9.1.0.70-py3-none-manylinux2014_x86_64.whl (664.8 MB)\n",
            "\u001b[2K   \u001b[90m━━━━━━━━━━━━━━━━━━━━━━━━━━━━━━━━━━━━━━━━\u001b[0m \u001b[32m664.8/664.8 MB\u001b[0m \u001b[31m2.8 MB/s\u001b[0m eta \u001b[36m0:00:00\u001b[0m\n",
            "\u001b[?25hDownloading nvidia_cufft_cu12-11.2.1.3-py3-none-manylinux2014_x86_64.whl (211.5 MB)\n",
            "\u001b[2K   \u001b[90m━━━━━━━━━━━━━━━━━━━━━━━━━━━━━━━━━━━━━━━━\u001b[0m \u001b[32m211.5/211.5 MB\u001b[0m \u001b[31m4.9 MB/s\u001b[0m eta \u001b[36m0:00:00\u001b[0m\n",
            "\u001b[?25hDownloading nvidia_curand_cu12-10.3.5.147-py3-none-manylinux2014_x86_64.whl (56.3 MB)\n",
            "\u001b[2K   \u001b[90m━━━━━━━━━━━━━━━━━━━━━━━━━━━━━━━━━━━━━━━━\u001b[0m \u001b[32m56.3/56.3 MB\u001b[0m \u001b[31m10.4 MB/s\u001b[0m eta \u001b[36m0:00:00\u001b[0m\n",
            "\u001b[?25hDownloading nvidia_cusolver_cu12-11.6.1.9-py3-none-manylinux2014_x86_64.whl (127.9 MB)\n",
            "\u001b[2K   \u001b[90m━━━━━━━━━━━━━━━━━━━━━━━━━━━━━━━━━━━━━━━━\u001b[0m \u001b[32m127.9/127.9 MB\u001b[0m \u001b[31m9.9 MB/s\u001b[0m eta \u001b[36m0:00:00\u001b[0m\n",
            "\u001b[?25hDownloading nvidia_cusparse_cu12-12.3.1.170-py3-none-manylinux2014_x86_64.whl (207.5 MB)\n",
            "\u001b[2K   \u001b[90m━━━━━━━━━━━━━━━━━━━━━━━━━━━━━━━━━━━━━━━━\u001b[0m \u001b[32m207.5/207.5 MB\u001b[0m \u001b[31m6.5 MB/s\u001b[0m eta \u001b[36m0:00:00\u001b[0m\n",
            "\u001b[?25hDownloading nvidia_nvjitlink_cu12-12.4.127-py3-none-manylinux2014_x86_64.whl (21.1 MB)\n",
            "\u001b[2K   \u001b[90m━━━━━━━━━━━━━━━━━━━━━━━━━━━━━━━━━━━━━━━━\u001b[0m \u001b[32m21.1/21.1 MB\u001b[0m \u001b[31m69.3 MB/s\u001b[0m eta \u001b[36m0:00:00\u001b[0m\n",
            "\u001b[?25hDownloading ultralytics_thop-2.0.14-py3-none-any.whl (26 kB)\n",
            "Installing collected packages: nvidia-nvjitlink-cu12, nvidia-curand-cu12, nvidia-cufft-cu12, nvidia-cuda-runtime-cu12, nvidia-cuda-nvrtc-cu12, nvidia-cuda-cupti-cu12, nvidia-cublas-cu12, nvidia-cusparse-cu12, nvidia-cudnn-cu12, nvidia-cusolver-cu12, ultralytics-thop, ultralytics\n",
            "  Attempting uninstall: nvidia-nvjitlink-cu12\n",
            "    Found existing installation: nvidia-nvjitlink-cu12 12.5.82\n",
            "    Uninstalling nvidia-nvjitlink-cu12-12.5.82:\n",
            "      Successfully uninstalled nvidia-nvjitlink-cu12-12.5.82\n",
            "  Attempting uninstall: nvidia-curand-cu12\n",
            "    Found existing installation: nvidia-curand-cu12 10.3.6.82\n",
            "    Uninstalling nvidia-curand-cu12-10.3.6.82:\n",
            "      Successfully uninstalled nvidia-curand-cu12-10.3.6.82\n",
            "  Attempting uninstall: nvidia-cufft-cu12\n",
            "    Found existing installation: nvidia-cufft-cu12 11.2.3.61\n",
            "    Uninstalling nvidia-cufft-cu12-11.2.3.61:\n",
            "      Successfully uninstalled nvidia-cufft-cu12-11.2.3.61\n",
            "  Attempting uninstall: nvidia-cuda-runtime-cu12\n",
            "    Found existing installation: nvidia-cuda-runtime-cu12 12.5.82\n",
            "    Uninstalling nvidia-cuda-runtime-cu12-12.5.82:\n",
            "      Successfully uninstalled nvidia-cuda-runtime-cu12-12.5.82\n",
            "  Attempting uninstall: nvidia-cuda-nvrtc-cu12\n",
            "    Found existing installation: nvidia-cuda-nvrtc-cu12 12.5.82\n",
            "    Uninstalling nvidia-cuda-nvrtc-cu12-12.5.82:\n",
            "      Successfully uninstalled nvidia-cuda-nvrtc-cu12-12.5.82\n",
            "  Attempting uninstall: nvidia-cuda-cupti-cu12\n",
            "    Found existing installation: nvidia-cuda-cupti-cu12 12.5.82\n",
            "    Uninstalling nvidia-cuda-cupti-cu12-12.5.82:\n",
            "      Successfully uninstalled nvidia-cuda-cupti-cu12-12.5.82\n",
            "  Attempting uninstall: nvidia-cublas-cu12\n",
            "    Found existing installation: nvidia-cublas-cu12 12.5.3.2\n",
            "    Uninstalling nvidia-cublas-cu12-12.5.3.2:\n",
            "      Successfully uninstalled nvidia-cublas-cu12-12.5.3.2\n",
            "  Attempting uninstall: nvidia-cusparse-cu12\n",
            "    Found existing installation: nvidia-cusparse-cu12 12.5.1.3\n",
            "    Uninstalling nvidia-cusparse-cu12-12.5.1.3:\n",
            "      Successfully uninstalled nvidia-cusparse-cu12-12.5.1.3\n",
            "  Attempting uninstall: nvidia-cudnn-cu12\n",
            "    Found existing installation: nvidia-cudnn-cu12 9.3.0.75\n",
            "    Uninstalling nvidia-cudnn-cu12-9.3.0.75:\n",
            "      Successfully uninstalled nvidia-cudnn-cu12-9.3.0.75\n",
            "  Attempting uninstall: nvidia-cusolver-cu12\n",
            "    Found existing installation: nvidia-cusolver-cu12 11.6.3.83\n",
            "    Uninstalling nvidia-cusolver-cu12-11.6.3.83:\n",
            "      Successfully uninstalled nvidia-cusolver-cu12-11.6.3.83\n",
            "Successfully installed nvidia-cublas-cu12-12.4.5.8 nvidia-cuda-cupti-cu12-12.4.127 nvidia-cuda-nvrtc-cu12-12.4.127 nvidia-cuda-runtime-cu12-12.4.127 nvidia-cudnn-cu12-9.1.0.70 nvidia-cufft-cu12-11.2.1.3 nvidia-curand-cu12-10.3.5.147 nvidia-cusolver-cu12-11.6.1.9 nvidia-cusparse-cu12-12.3.1.170 nvidia-nvjitlink-cu12-12.4.127 ultralytics-8.3.78 ultralytics-thop-2.0.14\n"
          ]
        }
      ],
      "source": [
        "!pip install ultralytics"
      ]
    },
    {
      "cell_type": "code",
      "source": [
        "!rm -rf /content/drive/MyDrive/Zero_Waste/train/data.cache\n",
        "!rm -rf /content/drive/MyDrive/Zero_Waste/val/data.cache\n",
        "!rm -rf /content/drive/MyDrive/Zero_Waste/test/data.cache"
      ],
      "metadata": {
        "id": "yYxt33KdUeql"
      },
      "execution_count": 7,
      "outputs": []
    },
    {
      "cell_type": "code",
      "source": [
        "from ultralytics import YOLO\n",
        "\n",
        "model = YOLO(\"yolov10s.pt\")\n",
        "\n",
        "# Start training\n",
        "model.train(\n",
        "    data=\"/content/drive/MyDrive/Zero_Waste/dataset.yaml\",\n",
        "    epochs=100,\n",
        "    imgsz=640,\n",
        "    batch=16,\n",
        "    device=\"cuda\"  # Use \"cpu\" if you don't have a GPU\n",
        ")"
      ],
      "metadata": {
        "colab": {
          "base_uri": "https://localhost:8080/"
        },
        "id": "PXnp4CNZqwxI",
        "outputId": "69915787-9357-4012-b71a-869acb538f97"
      },
      "execution_count": null,
      "outputs": [
        {
          "metadata": {
            "tags": null
          },
          "name": "stdout",
          "output_type": "stream",
          "text": [
            "Creating new Ultralytics Settings v0.0.6 file ✅ \n",
            "View Ultralytics Settings with 'yolo settings' or at '/root/.config/Ultralytics/settings.json'\n",
            "Update Settings with 'yolo settings key=value', i.e. 'yolo settings runs_dir=path/to/dir'. For help see https://docs.ultralytics.com/quickstart/#ultralytics-settings.\n",
            "Downloading https://github.com/ultralytics/assets/releases/download/v8.3.0/yolov10s.pt to 'yolov10s.pt'...\n"
          ]
        },
        {
          "metadata": {
            "tags": null
          },
          "name": "stderr",
          "output_type": "stream",
          "text": [
            "100%|██████████| 15.9M/15.9M [00:00<00:00, 120MB/s] \n"
          ]
        },
        {
          "metadata": {
            "tags": null
          },
          "name": "stdout",
          "output_type": "stream",
          "text": [
            "Ultralytics 8.3.78 🚀 Python-3.11.11 torch-2.5.1+cu124 CUDA:0 (Tesla T4, 15095MiB)\n",
            "\u001b[34m\u001b[1mengine/trainer: \u001b[0mtask=detect, mode=train, model=yolov10s.pt, data=/content/drive/MyDrive/Zero_Waste/dataset.yaml, epochs=100, time=None, patience=100, batch=16, imgsz=640, save=True, save_period=-1, cache=False, device=cuda, workers=8, project=None, name=train, exist_ok=False, pretrained=True, optimizer=auto, verbose=True, seed=0, deterministic=True, single_cls=False, rect=False, cos_lr=False, close_mosaic=10, resume=False, amp=True, fraction=1.0, profile=False, freeze=None, multi_scale=False, overlap_mask=True, mask_ratio=4, dropout=0.0, val=True, split=val, save_json=False, save_hybrid=False, conf=None, iou=0.7, max_det=300, half=False, dnn=False, plots=True, source=None, vid_stride=1, stream_buffer=False, visualize=False, augment=False, agnostic_nms=False, classes=None, retina_masks=False, embed=None, show=False, save_frames=False, save_txt=False, save_conf=False, save_crop=False, show_labels=True, show_conf=True, show_boxes=True, line_width=None, format=torchscript, keras=False, optimize=False, int8=False, dynamic=False, simplify=True, opset=None, workspace=None, nms=False, lr0=0.01, lrf=0.01, momentum=0.937, weight_decay=0.0005, warmup_epochs=3.0, warmup_momentum=0.8, warmup_bias_lr=0.1, box=7.5, cls=0.5, dfl=1.5, pose=12.0, kobj=1.0, nbs=64, hsv_h=0.015, hsv_s=0.7, hsv_v=0.4, degrees=0.0, translate=0.1, scale=0.5, shear=0.0, perspective=0.0, flipud=0.0, fliplr=0.5, bgr=0.0, mosaic=1.0, mixup=0.0, copy_paste=0.0, copy_paste_mode=flip, auto_augment=randaugment, erasing=0.4, crop_fraction=1.0, cfg=None, tracker=botsort.yaml, save_dir=runs/detect/train\n",
            "Downloading https://ultralytics.com/assets/Arial.ttf to '/root/.config/Ultralytics/Arial.ttf'...\n"
          ]
        },
        {
          "metadata": {
            "tags": null
          },
          "name": "stderr",
          "output_type": "stream",
          "text": [
            "100%|██████████| 755k/755k [00:00<00:00, 21.2MB/s]\n"
          ]
        },
        {
          "metadata": {
            "tags": null
          },
          "name": "stdout",
          "output_type": "stream",
          "text": [
            "Overriding model.yaml nc=80 with nc=4\n",
            "\n",
            "                   from  n    params  module                                       arguments                     \n",
            "  0                  -1  1       928  ultralytics.nn.modules.conv.Conv             [3, 32, 3, 2]                 \n",
            "  1                  -1  1     18560  ultralytics.nn.modules.conv.Conv             [32, 64, 3, 2]                \n",
            "  2                  -1  1     29056  ultralytics.nn.modules.block.C2f             [64, 64, 1, True]             \n",
            "  3                  -1  1     73984  ultralytics.nn.modules.conv.Conv             [64, 128, 3, 2]               \n",
            "  4                  -1  2    197632  ultralytics.nn.modules.block.C2f             [128, 128, 2, True]           \n",
            "  5                  -1  1     36096  ultralytics.nn.modules.block.SCDown          [128, 256, 3, 2]              \n",
            "  6                  -1  2    788480  ultralytics.nn.modules.block.C2f             [256, 256, 2, True]           \n",
            "  7                  -1  1    137728  ultralytics.nn.modules.block.SCDown          [256, 512, 3, 2]              \n",
            "  8                  -1  1    958464  ultralytics.nn.modules.block.C2fCIB          [512, 512, 1, True, True]     \n",
            "  9                  -1  1    656896  ultralytics.nn.modules.block.SPPF            [512, 512, 5]                 \n",
            " 10                  -1  1    990976  ultralytics.nn.modules.block.PSA             [512, 512]                    \n",
            " 11                  -1  1         0  torch.nn.modules.upsampling.Upsample         [None, 2, 'nearest']          \n",
            " 12             [-1, 6]  1         0  ultralytics.nn.modules.conv.Concat           [1]                           \n",
            " 13                  -1  1    591360  ultralytics.nn.modules.block.C2f             [768, 256, 1]                 \n",
            " 14                  -1  1         0  torch.nn.modules.upsampling.Upsample         [None, 2, 'nearest']          \n",
            " 15             [-1, 4]  1         0  ultralytics.nn.modules.conv.Concat           [1]                           \n",
            " 16                  -1  1    148224  ultralytics.nn.modules.block.C2f             [384, 128, 1]                 \n",
            " 17                  -1  1    147712  ultralytics.nn.modules.conv.Conv             [128, 128, 3, 2]              \n",
            " 18            [-1, 13]  1         0  ultralytics.nn.modules.conv.Concat           [1]                           \n",
            " 19                  -1  1    493056  ultralytics.nn.modules.block.C2f             [384, 256, 1]                 \n",
            " 20                  -1  1     68864  ultralytics.nn.modules.block.SCDown          [256, 256, 3, 2]              \n",
            " 21            [-1, 10]  1         0  ultralytics.nn.modules.conv.Concat           [1]                           \n",
            " 22                  -1  1   1089536  ultralytics.nn.modules.block.C2fCIB          [768, 512, 1, True, True]     \n",
            " 23        [16, 19, 22]  1   1641896  ultralytics.nn.modules.head.v10Detect        [4, [128, 256, 512]]          \n",
            "YOLOv10s summary: 234 layers, 8,069,448 parameters, 8,069,432 gradients, 24.8 GFLOPs\n",
            "\n",
            "Transferred 607/619 items from pretrained weights\n",
            "\u001b[34m\u001b[1mTensorBoard: \u001b[0mStart with 'tensorboard --logdir runs/detect/train', view at http://localhost:6006/\n",
            "Freezing layer 'model.23.dfl.conv.weight'\n",
            "\u001b[34m\u001b[1mAMP: \u001b[0mrunning Automatic Mixed Precision (AMP) checks...\n",
            "Downloading https://github.com/ultralytics/assets/releases/download/v8.3.0/yolo11n.pt to 'yolo11n.pt'...\n"
          ]
        },
        {
          "metadata": {
            "tags": null
          },
          "name": "stderr",
          "output_type": "stream",
          "text": [
            "100%|██████████| 5.35M/5.35M [00:00<00:00, 86.9MB/s]\n"
          ]
        },
        {
          "metadata": {
            "tags": null
          },
          "name": "stdout",
          "output_type": "stream",
          "text": [
            "\u001b[34m\u001b[1mAMP: \u001b[0mchecks passed ✅\n"
          ]
        },
        {
          "metadata": {
            "tags": null
          },
          "name": "stderr",
          "output_type": "stream",
          "text": [
            "\u001b[34m\u001b[1mtrain: \u001b[0mScanning /content/drive/MyDrive/Zero_Waste/train/labels.cache... 2947 images, 0 backgrounds, 0 corrupt: 100%|██████████| 2947/2947 [00:00<?, ?it/s]\n"
          ]
        },
        {
          "metadata": {
            "tags": null
          },
          "name": "stdout",
          "output_type": "stream",
          "text": [
            "\u001b[34m\u001b[1malbumentations: \u001b[0mBlur(p=0.01, blur_limit=(3, 7)), MedianBlur(p=0.01, blur_limit=(3, 7)), ToGray(p=0.01, num_output_channels=3, method='weighted_average'), CLAHE(p=0.01, clip_limit=(1.0, 4.0), tile_grid_size=(8, 8))\n"
          ]
        },
        {
          "metadata": {
            "tags": null
          },
          "name": "stderr",
          "output_type": "stream",
          "text": [
            "\u001b[34m\u001b[1mval: \u001b[0mScanning /content/drive/MyDrive/Zero_Waste/val/labels.cache... 571 images, 0 backgrounds, 0 corrupt: 100%|██████████| 571/571 [00:00<?, ?it/s]\n"
          ]
        },
        {
          "metadata": {
            "tags": null
          },
          "name": "stdout",
          "output_type": "stream",
          "text": [
            "Plotting labels to runs/detect/train/labels.jpg... \n",
            "\u001b[34m\u001b[1moptimizer:\u001b[0m 'optimizer=auto' found, ignoring 'lr0=0.01' and 'momentum=0.937' and determining best 'optimizer', 'lr0' and 'momentum' automatically... \n",
            "\u001b[34m\u001b[1moptimizer:\u001b[0m AdamW(lr=0.00125, momentum=0.9) with parameter groups 99 weight(decay=0.0), 112 weight(decay=0.0005), 111 bias(decay=0.0)\n",
            "\u001b[34m\u001b[1mTensorBoard: \u001b[0mmodel graph visualization added ✅\n",
            "Image sizes 640 train, 640 val\n",
            "Using 2 dataloader workers\n",
            "Logging results to \u001b[1mruns/detect/train\u001b[0m\n",
            "Starting training for 100 epochs...\n",
            "\n",
            "      Epoch    GPU_mem   box_loss   cls_loss   dfl_loss  Instances       Size\n"
          ]
        },
        {
          "metadata": {
            "tags": null
          },
          "name": "stderr",
          "output_type": "stream",
          "text": [
            "      1/100      4.91G      4.615      8.764      4.801         16        640: 100%|██████████| 185/185 [11:12<00:00,  3.64s/it]\n",
            "                 Class     Images  Instances      Box(P          R      mAP50  mAP50-95): 100%|██████████| 18/18 [00:10<00:00,  1.73it/s]\n"
          ]
        },
        {
          "metadata": {
            "tags": null
          },
          "name": "stdout",
          "output_type": "stream",
          "text": [
            "                   all        571       3687    0.00176     0.0598    0.00145   0.000412\n",
            "\n",
            "      Epoch    GPU_mem   box_loss   cls_loss   dfl_loss  Instances       Size\n"
          ]
        },
        {
          "metadata": {
            "tags": null
          },
          "name": "stderr",
          "output_type": "stream",
          "text": [
            "      2/100      4.85G       4.44      7.874      4.552         16        640: 100%|██████████| 185/185 [01:33<00:00,  1.97it/s]\n",
            "                 Class     Images  Instances      Box(P          R      mAP50  mAP50-95): 100%|██████████| 18/18 [00:08<00:00,  2.05it/s]\n"
          ]
        },
        {
          "metadata": {
            "tags": null
          },
          "name": "stdout",
          "output_type": "stream",
          "text": [
            "                   all        571       3687    0.00234      0.125    0.00292      0.001\n",
            "\n",
            "      Epoch    GPU_mem   box_loss   cls_loss   dfl_loss  Instances       Size\n"
          ]
        },
        {
          "metadata": {
            "tags": null
          },
          "name": "stderr",
          "output_type": "stream",
          "text": [
            "      3/100      4.83G       4.35      7.841      4.546          9        640: 100%|██████████| 185/185 [01:33<00:00,  1.98it/s]\n",
            "                 Class     Images  Instances      Box(P          R      mAP50  mAP50-95): 100%|██████████| 18/18 [00:09<00:00,  1.93it/s]\n"
          ]
        },
        {
          "metadata": {
            "tags": null
          },
          "name": "stdout",
          "output_type": "stream",
          "text": [
            "                   all        571       3687    0.00335     0.0742    0.00306    0.00108\n",
            "\n",
            "      Epoch    GPU_mem   box_loss   cls_loss   dfl_loss  Instances       Size\n"
          ]
        },
        {
          "metadata": {
            "tags": null
          },
          "name": "stderr",
          "output_type": "stream",
          "text": [
            "      4/100      4.85G       4.27      7.835      4.446         14        640: 100%|██████████| 185/185 [01:32<00:00,  2.00it/s]\n",
            "                 Class     Images  Instances      Box(P          R      mAP50  mAP50-95): 100%|██████████| 18/18 [00:09<00:00,  1.80it/s]\n"
          ]
        },
        {
          "metadata": {
            "tags": null
          },
          "name": "stdout",
          "output_type": "stream",
          "text": [
            "                   all        571       3687    0.00236       0.12    0.00493    0.00152\n",
            "\n",
            "      Epoch    GPU_mem   box_loss   cls_loss   dfl_loss  Instances       Size\n"
          ]
        },
        {
          "metadata": {
            "tags": null
          },
          "name": "stderr",
          "output_type": "stream",
          "text": [
            "      5/100      4.86G      4.209      7.744      4.407         19        640: 100%|██████████| 185/185 [01:33<00:00,  1.97it/s]\n",
            "                 Class     Images  Instances      Box(P          R      mAP50  mAP50-95): 100%|██████████| 18/18 [00:09<00:00,  1.93it/s]\n"
          ]
        },
        {
          "metadata": {
            "tags": null
          },
          "name": "stdout",
          "output_type": "stream",
          "text": [
            "                   all        571       3687     0.0025      0.135    0.00407    0.00149\n",
            "\n",
            "      Epoch    GPU_mem   box_loss   cls_loss   dfl_loss  Instances       Size\n"
          ]
        },
        {
          "metadata": {
            "tags": null
          },
          "name": "stderr",
          "output_type": "stream",
          "text": [
            "      6/100      4.91G       4.16      7.692      4.376         18        640: 100%|██████████| 185/185 [01:31<00:00,  2.02it/s]\n",
            "                 Class     Images  Instances      Box(P          R      mAP50  mAP50-95): 100%|██████████| 18/18 [00:09<00:00,  1.90it/s]"
          ]
        },
        {
          "metadata": {
            "tags": null
          },
          "name": "stdout",
          "output_type": "stream",
          "text": [
            "                   all        571       3687     0.0026      0.137     0.0045    0.00141\n"
          ]
        },
        {
          "metadata": {
            "tags": null
          },
          "name": "stderr",
          "output_type": "stream",
          "text": [
            "\n"
          ]
        },
        {
          "metadata": {
            "tags": null
          },
          "name": "stdout",
          "output_type": "stream",
          "text": [
            "\n",
            "      Epoch    GPU_mem   box_loss   cls_loss   dfl_loss  Instances       Size\n"
          ]
        },
        {
          "metadata": {
            "tags": null
          },
          "name": "stderr",
          "output_type": "stream",
          "text": [
            "      7/100      4.85G      4.156      7.586      4.329         16        640: 100%|██████████| 185/185 [01:32<00:00,  1.99it/s]\n",
            "                 Class     Images  Instances      Box(P          R      mAP50  mAP50-95): 100%|██████████| 18/18 [00:08<00:00,  2.12it/s]"
          ]
        },
        {
          "metadata": {
            "tags": null
          },
          "name": "stdout",
          "output_type": "stream",
          "text": [
            "                   all        571       3687     0.0119      0.138     0.0112    0.00273\n"
          ]
        },
        {
          "metadata": {
            "tags": null
          },
          "name": "stderr",
          "output_type": "stream",
          "text": [
            "\n"
          ]
        },
        {
          "metadata": {
            "tags": null
          },
          "name": "stdout",
          "output_type": "stream",
          "text": [
            "\n",
            "      Epoch    GPU_mem   box_loss   cls_loss   dfl_loss  Instances       Size\n"
          ]
        },
        {
          "metadata": {
            "tags": null
          },
          "name": "stderr",
          "output_type": "stream",
          "text": [
            "      8/100      4.82G      4.132      7.535      4.283         18        640: 100%|██████████| 185/185 [01:31<00:00,  2.02it/s]\n",
            "                 Class     Images  Instances      Box(P          R      mAP50  mAP50-95): 100%|██████████| 18/18 [00:09<00:00,  1.87it/s]\n"
          ]
        },
        {
          "metadata": {
            "tags": null
          },
          "name": "stdout",
          "output_type": "stream",
          "text": [
            "                   all        571       3687    0.00946     0.0417     0.0074    0.00289\n",
            "\n",
            "      Epoch    GPU_mem   box_loss   cls_loss   dfl_loss  Instances       Size\n"
          ]
        },
        {
          "metadata": {
            "tags": null
          },
          "name": "stderr",
          "output_type": "stream",
          "text": [
            "      9/100      4.86G      4.089      7.483      4.263         19        640: 100%|██████████| 185/185 [01:31<00:00,  2.02it/s]\n",
            "                 Class     Images  Instances      Box(P          R      mAP50  mAP50-95): 100%|██████████| 18/18 [00:07<00:00,  2.26it/s]\n"
          ]
        },
        {
          "metadata": {
            "tags": null
          },
          "name": "stdout",
          "output_type": "stream",
          "text": [
            "                   all        571       3687      0.522     0.0224    0.00813    0.00304\n",
            "\n",
            "      Epoch    GPU_mem   box_loss   cls_loss   dfl_loss  Instances       Size\n"
          ]
        },
        {
          "metadata": {
            "tags": null
          },
          "name": "stderr",
          "output_type": "stream",
          "text": [
            "     10/100      4.87G      4.079       7.41       4.23          6        640: 100%|██████████| 185/185 [01:31<00:00,  2.01it/s]\n",
            "                 Class     Images  Instances      Box(P          R      mAP50  mAP50-95): 100%|██████████| 18/18 [00:09<00:00,  1.91it/s]"
          ]
        },
        {
          "metadata": {
            "tags": null
          },
          "name": "stdout",
          "output_type": "stream",
          "text": [
            "                   all        571       3687      0.535     0.0176     0.0109     0.0043\n"
          ]
        },
        {
          "metadata": {
            "tags": null
          },
          "name": "stderr",
          "output_type": "stream",
          "text": [
            "\n"
          ]
        },
        {
          "metadata": {
            "tags": null
          },
          "name": "stdout",
          "output_type": "stream",
          "text": [
            "\n",
            "      Epoch    GPU_mem   box_loss   cls_loss   dfl_loss  Instances       Size\n"
          ]
        },
        {
          "metadata": {
            "tags": null
          },
          "name": "stderr",
          "output_type": "stream",
          "text": [
            "     11/100      4.85G      4.072      7.313      4.215         15        640: 100%|██████████| 185/185 [01:32<00:00,  2.01it/s]\n",
            "                 Class     Images  Instances      Box(P          R      mAP50  mAP50-95): 100%|██████████| 18/18 [00:08<00:00,  2.17it/s]\n"
          ]
        },
        {
          "metadata": {
            "tags": null
          },
          "name": "stdout",
          "output_type": "stream",
          "text": [
            "                   all        571       3687      0.524     0.0238    0.00993    0.00393\n",
            "\n",
            "      Epoch    GPU_mem   box_loss   cls_loss   dfl_loss  Instances       Size\n"
          ]
        },
        {
          "metadata": {
            "tags": null
          },
          "name": "stderr",
          "output_type": "stream",
          "text": [
            "     12/100      4.81G      4.029      7.251      4.125         25        640: 100%|██████████| 185/185 [01:32<00:00,  2.00it/s]\n",
            "                 Class     Images  Instances      Box(P          R      mAP50  mAP50-95): 100%|██████████| 18/18 [00:09<00:00,  1.85it/s]\n"
          ]
        },
        {
          "metadata": {
            "tags": null
          },
          "name": "stdout",
          "output_type": "stream",
          "text": [
            "                   all        571       3687      0.272     0.0308     0.0123    0.00419\n",
            "\n",
            "      Epoch    GPU_mem   box_loss   cls_loss   dfl_loss  Instances       Size\n"
          ]
        },
        {
          "metadata": {
            "tags": null
          },
          "name": "stderr",
          "output_type": "stream",
          "text": [
            "     13/100      4.86G      4.048      7.177      4.128          9        640: 100%|██████████| 185/185 [01:36<00:00,  1.93it/s]\n",
            "                 Class     Images  Instances      Box(P          R      mAP50  mAP50-95): 100%|██████████| 18/18 [00:08<00:00,  2.18it/s]"
          ]
        },
        {
          "metadata": {
            "tags": null
          },
          "name": "stdout",
          "output_type": "stream",
          "text": [
            "                   all        571       3687      0.547     0.0237     0.0156    0.00618\n"
          ]
        },
        {
          "metadata": {
            "tags": null
          },
          "name": "stderr",
          "output_type": "stream",
          "text": [
            "\n"
          ]
        },
        {
          "metadata": {
            "tags": null
          },
          "name": "stdout",
          "output_type": "stream",
          "text": [
            "\n",
            "      Epoch    GPU_mem   box_loss   cls_loss   dfl_loss  Instances       Size\n"
          ]
        },
        {
          "metadata": {
            "tags": null
          },
          "name": "stderr",
          "output_type": "stream",
          "text": [
            "     14/100       4.9G       4.02      7.149      4.143         10        640: 100%|██████████| 185/185 [01:39<00:00,  1.86it/s]\n",
            "                 Class     Images  Instances      Box(P          R      mAP50  mAP50-95): 100%|██████████| 18/18 [00:08<00:00,  2.07it/s]"
          ]
        },
        {
          "metadata": {
            "tags": null
          },
          "name": "stdout",
          "output_type": "stream",
          "text": [
            "                   all        571       3687      0.315     0.0203     0.0149    0.00616\n"
          ]
        },
        {
          "metadata": {
            "tags": null
          },
          "name": "stderr",
          "output_type": "stream",
          "text": [
            "\n"
          ]
        },
        {
          "metadata": {
            "tags": null
          },
          "name": "stdout",
          "output_type": "stream",
          "text": [
            "\n",
            "      Epoch    GPU_mem   box_loss   cls_loss   dfl_loss  Instances       Size\n"
          ]
        },
        {
          "metadata": {
            "tags": null
          },
          "name": "stderr",
          "output_type": "stream",
          "text": [
            "     15/100      4.85G      3.996      7.134      4.116         11        640: 100%|██████████| 185/185 [01:35<00:00,  1.95it/s]\n",
            "                 Class     Images  Instances      Box(P          R      mAP50  mAP50-95): 100%|██████████| 18/18 [00:09<00:00,  1.91it/s]\n"
          ]
        },
        {
          "metadata": {
            "tags": null
          },
          "name": "stdout",
          "output_type": "stream",
          "text": [
            "                   all        571       3687      0.295     0.0334     0.0156     0.0067\n",
            "\n",
            "      Epoch    GPU_mem   box_loss   cls_loss   dfl_loss  Instances       Size\n"
          ]
        },
        {
          "metadata": {
            "tags": null
          },
          "name": "stderr",
          "output_type": "stream",
          "text": [
            "     16/100      4.84G      3.987      7.053      4.089         22        640: 100%|██████████| 185/185 [01:34<00:00,  1.95it/s]\n",
            "                 Class     Images  Instances      Box(P          R      mAP50  mAP50-95): 100%|██████████| 18/18 [00:08<00:00,  2.05it/s]\n"
          ]
        },
        {
          "metadata": {
            "tags": null
          },
          "name": "stdout",
          "output_type": "stream",
          "text": [
            "                   all        571       3687     0.0576     0.0286     0.0165    0.00662\n",
            "\n",
            "      Epoch    GPU_mem   box_loss   cls_loss   dfl_loss  Instances       Size\n"
          ]
        },
        {
          "metadata": {
            "tags": null
          },
          "name": "stderr",
          "output_type": "stream",
          "text": [
            "     17/100      4.86G      3.971      6.996      4.071          7        640: 100%|██████████| 185/185 [01:33<00:00,  1.99it/s]\n",
            "                 Class     Images  Instances      Box(P          R      mAP50  mAP50-95): 100%|██████████| 18/18 [00:09<00:00,  1.89it/s]"
          ]
        },
        {
          "metadata": {
            "tags": null
          },
          "name": "stdout",
          "output_type": "stream",
          "text": [
            "                   all        571       3687     0.0104      0.148     0.0149    0.00656\n"
          ]
        },
        {
          "metadata": {
            "tags": null
          },
          "name": "stderr",
          "output_type": "stream",
          "text": [
            "\n"
          ]
        },
        {
          "metadata": {
            "tags": null
          },
          "name": "stdout",
          "output_type": "stream",
          "text": [
            "\n",
            "      Epoch    GPU_mem   box_loss   cls_loss   dfl_loss  Instances       Size\n"
          ]
        },
        {
          "metadata": {
            "tags": null
          },
          "name": "stderr",
          "output_type": "stream",
          "text": [
            "     18/100      4.88G      3.957      6.984      4.059         11        640: 100%|██████████| 185/185 [01:34<00:00,  1.96it/s]\n",
            "                 Class     Images  Instances      Box(P          R      mAP50  mAP50-95): 100%|██████████| 18/18 [00:09<00:00,  2.00it/s]\n"
          ]
        },
        {
          "metadata": {
            "tags": null
          },
          "name": "stdout",
          "output_type": "stream",
          "text": [
            "                   all        571       3687       0.41     0.0264     0.0211    0.00922\n",
            "\n",
            "      Epoch    GPU_mem   box_loss   cls_loss   dfl_loss  Instances       Size\n"
          ]
        },
        {
          "metadata": {
            "tags": null
          },
          "name": "stderr",
          "output_type": "stream",
          "text": [
            "     19/100      4.88G      3.923      6.888      4.041         13        640: 100%|██████████| 185/185 [01:32<00:00,  2.01it/s]\n",
            "                 Class     Images  Instances      Box(P          R      mAP50  mAP50-95): 100%|██████████| 18/18 [00:09<00:00,  1.81it/s]"
          ]
        },
        {
          "metadata": {
            "tags": null
          },
          "name": "stdout",
          "output_type": "stream",
          "text": [
            "                   all        571       3687       0.35     0.0394     0.0232     0.0089\n"
          ]
        },
        {
          "metadata": {
            "tags": null
          },
          "name": "stderr",
          "output_type": "stream",
          "text": [
            "\n"
          ]
        },
        {
          "metadata": {
            "tags": null
          },
          "name": "stdout",
          "output_type": "stream",
          "text": [
            "\n",
            "      Epoch    GPU_mem   box_loss   cls_loss   dfl_loss  Instances       Size\n"
          ]
        },
        {
          "metadata": {
            "tags": null
          },
          "name": "stderr",
          "output_type": "stream",
          "text": [
            "     20/100      4.97G      3.881      6.825      4.012         16        640: 100%|██████████| 185/185 [01:33<00:00,  1.98it/s]\n",
            "                 Class     Images  Instances      Box(P          R      mAP50  mAP50-95): 100%|██████████| 18/18 [00:09<00:00,  1.97it/s]\n"
          ]
        },
        {
          "metadata": {
            "tags": null
          },
          "name": "stdout",
          "output_type": "stream",
          "text": [
            "                   all        571       3687      0.475     0.0343     0.0238       0.01\n",
            "\n",
            "      Epoch    GPU_mem   box_loss   cls_loss   dfl_loss  Instances       Size\n"
          ]
        },
        {
          "metadata": {
            "tags": null
          },
          "name": "stderr",
          "output_type": "stream",
          "text": [
            "     21/100      4.87G      3.896      6.755      3.975         27        640: 100%|██████████| 185/185 [01:32<00:00,  2.00it/s]\n",
            "                 Class     Images  Instances      Box(P          R      mAP50  mAP50-95): 100%|██████████| 18/18 [00:09<00:00,  1.94it/s]"
          ]
        },
        {
          "metadata": {
            "tags": null
          },
          "name": "stdout",
          "output_type": "stream",
          "text": [
            "                   all        571       3687      0.389     0.0352     0.0234    0.00951\n"
          ]
        },
        {
          "metadata": {
            "tags": null
          },
          "name": "stderr",
          "output_type": "stream",
          "text": [
            "\n"
          ]
        },
        {
          "metadata": {
            "tags": null
          },
          "name": "stdout",
          "output_type": "stream",
          "text": [
            "\n",
            "      Epoch    GPU_mem   box_loss   cls_loss   dfl_loss  Instances       Size\n"
          ]
        },
        {
          "metadata": {
            "tags": null
          },
          "name": "stderr",
          "output_type": "stream",
          "text": [
            "     22/100      4.85G      3.871      6.704      3.975         13        640: 100%|██████████| 185/185 [01:33<00:00,  1.98it/s]\n",
            "                 Class     Images  Instances      Box(P          R      mAP50  mAP50-95): 100%|██████████| 18/18 [00:09<00:00,  1.89it/s]\n"
          ]
        },
        {
          "metadata": {
            "tags": null
          },
          "name": "stdout",
          "output_type": "stream",
          "text": [
            "                   all        571       3687      0.431     0.0404     0.0291     0.0127\n",
            "\n",
            "      Epoch    GPU_mem   box_loss   cls_loss   dfl_loss  Instances       Size\n"
          ]
        },
        {
          "metadata": {
            "tags": null
          },
          "name": "stderr",
          "output_type": "stream",
          "text": [
            "     23/100      4.88G      3.891      6.671      3.986         10        640: 100%|██████████| 185/185 [01:32<00:00,  2.00it/s]\n",
            "                 Class     Images  Instances      Box(P          R      mAP50  mAP50-95): 100%|██████████| 18/18 [00:09<00:00,  1.89it/s]\n"
          ]
        },
        {
          "metadata": {
            "tags": null
          },
          "name": "stdout",
          "output_type": "stream",
          "text": [
            "                   all        571       3687      0.356      0.046     0.0272     0.0108\n",
            "\n",
            "      Epoch    GPU_mem   box_loss   cls_loss   dfl_loss  Instances       Size\n"
          ]
        },
        {
          "metadata": {
            "tags": null
          },
          "name": "stderr",
          "output_type": "stream",
          "text": [
            "     24/100      4.85G      3.849      6.558      3.913         16        640: 100%|██████████| 185/185 [01:33<00:00,  1.99it/s]\n",
            "                 Class     Images  Instances      Box(P          R      mAP50  mAP50-95): 100%|██████████| 18/18 [00:08<00:00,  2.14it/s]\n"
          ]
        },
        {
          "metadata": {
            "tags": null
          },
          "name": "stdout",
          "output_type": "stream",
          "text": [
            "                   all        571       3687       0.39     0.0442     0.0277     0.0121\n",
            "\n",
            "      Epoch    GPU_mem   box_loss   cls_loss   dfl_loss  Instances       Size\n"
          ]
        },
        {
          "metadata": {
            "tags": null
          },
          "name": "stderr",
          "output_type": "stream",
          "text": [
            "     25/100      4.86G      3.843       6.51      3.905         15        640: 100%|██████████| 185/185 [01:32<00:00,  2.00it/s]\n",
            "                 Class     Images  Instances      Box(P          R      mAP50  mAP50-95): 100%|██████████| 18/18 [00:10<00:00,  1.80it/s]"
          ]
        },
        {
          "metadata": {
            "tags": null
          },
          "name": "stdout",
          "output_type": "stream",
          "text": [
            "                   all        571       3687      0.385     0.0421     0.0298     0.0134\n"
          ]
        },
        {
          "metadata": {
            "tags": null
          },
          "name": "stderr",
          "output_type": "stream",
          "text": [
            "\n"
          ]
        },
        {
          "metadata": {
            "tags": null
          },
          "name": "stdout",
          "output_type": "stream",
          "text": [
            "\n",
            "      Epoch    GPU_mem   box_loss   cls_loss   dfl_loss  Instances       Size\n"
          ]
        },
        {
          "metadata": {
            "tags": null
          },
          "name": "stderr",
          "output_type": "stream",
          "text": [
            "     26/100      4.86G      3.811      6.456      3.894         15        640: 100%|██████████| 185/185 [01:33<00:00,  1.97it/s]\n",
            "                 Class     Images  Instances      Box(P          R      mAP50  mAP50-95): 100%|██████████| 18/18 [00:09<00:00,  1.90it/s]"
          ]
        },
        {
          "metadata": {
            "tags": null
          },
          "name": "stdout",
          "output_type": "stream",
          "text": [
            "                   all        571       3687      0.374     0.0448     0.0347      0.015\n"
          ]
        },
        {
          "metadata": {
            "tags": null
          },
          "name": "stderr",
          "output_type": "stream",
          "text": [
            "\n"
          ]
        },
        {
          "metadata": {
            "tags": null
          },
          "name": "stdout",
          "output_type": "stream",
          "text": [
            "\n",
            "      Epoch    GPU_mem   box_loss   cls_loss   dfl_loss  Instances       Size\n"
          ]
        },
        {
          "output_type": "stream",
          "name": "stderr",
          "text": [
            "     27/100      4.84G      3.804      6.394      3.888         19        640: 100%|██████████| 185/185 [01:32<00:00,  2.00it/s]\n",
            "                 Class     Images  Instances      Box(P          R      mAP50  mAP50-95): 100%|██████████| 18/18 [00:09<00:00,  1.93it/s]"
          ]
        },
        {
          "output_type": "stream",
          "name": "stdout",
          "text": [
            "                   all        571       3687      0.377     0.0528     0.0363     0.0162\n"
          ]
        },
        {
          "output_type": "stream",
          "name": "stderr",
          "text": [
            "\n"
          ]
        },
        {
          "output_type": "stream",
          "name": "stdout",
          "text": [
            "\n",
            "      Epoch    GPU_mem   box_loss   cls_loss   dfl_loss  Instances       Size\n"
          ]
        },
        {
          "output_type": "stream",
          "name": "stderr",
          "text": [
            "     28/100      4.86G      3.815      6.309      3.874         83        640:  58%|█████▊    | 108/185 [00:54<00:35,  2.15it/s]"
          ]
        }
      ]
    }
  ],
  "metadata": {
    "accelerator": "GPU",
    "colab": {
      "gpuType": "T4",
      "provenance": [],
      "authorship_tag": "ABX9TyObF2NMsHFIdvEA4qBPr1Sm",
      "include_colab_link": true
    },
    "kernelspec": {
      "display_name": "Python 3",
      "name": "python3"
    },
    "language_info": {
      "name": "python"
    }
  },
  "nbformat": 4,
  "nbformat_minor": 0
}