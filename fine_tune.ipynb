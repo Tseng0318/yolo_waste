{
  "nbformat": 4,
  "nbformat_minor": 0,
  "metadata": {
    "colab": {
      "provenance": [],
      "gpuType": "T4",
      "authorship_tag": "ABX9TyOrNkXyNJ5r/U7SnHozEIdW",
      "include_colab_link": true
    },
    "kernelspec": {
      "name": "python3",
      "display_name": "Python 3"
    },
    "language_info": {
      "name": "python"
    },
    "accelerator": "GPU"
  },
  "cells": [
    {
      "cell_type": "markdown",
      "metadata": {
        "id": "view-in-github",
        "colab_type": "text"
      },
      "source": [
        "<a href=\"https://colab.research.google.com/github/Tseng0318/yolo_waste/blob/main/fine_tune.ipynb\" target=\"_parent\"><img src=\"https://colab.research.google.com/assets/colab-badge.svg\" alt=\"Open In Colab\"/></a>"
      ]
    },
    {
      "cell_type": "code",
      "execution_count": 1,
      "metadata": {
        "colab": {
          "base_uri": "https://localhost:8080/"
        },
        "id": "0CJKxyuE5wr5",
        "outputId": "03696572-7d12-4917-9b64-1aaf3901824c"
      },
      "outputs": [
        {
          "output_type": "stream",
          "name": "stdout",
          "text": [
            "Mounted at /content/drive\n"
          ]
        }
      ],
      "source": [
        "from google.colab import drive\n",
        "drive.mount('/content/drive')"
      ]
    },
    {
      "cell_type": "code",
      "source": [
        "import os\n",
        "\n",
        "dataset_path = \"/content/drive/MyDrive/Zero_Waste/ZeroWaste-Dataset\"\n",
        "splits = [\"train\", \"val\", \"test\"]\n",
        "\n",
        "for split in splits:\n",
        "    split_path = os.path.join(dataset_path, split)\n",
        "    print(f\"📂 Checking {split_path}...\")\n",
        "    print(\"Contents:\", os.listdir(split_path))"
      ],
      "metadata": {
        "id": "qnvpGNkAV3CJ",
        "outputId": "20b5b061-49f4-4a56-bab4-5fe772cd923a",
        "colab": {
          "base_uri": "https://localhost:8080/"
        }
      },
      "execution_count": 5,
      "outputs": [
        {
          "output_type": "stream",
          "name": "stdout",
          "text": [
            "📂 Checking /content/drive/MyDrive/Zero_Waste/ZeroWaste-Dataset/train...\n",
            "Contents: ['labels.json', 'sem_seg', 'data', 'labels', 'data.cache']\n",
            "📂 Checking /content/drive/MyDrive/Zero_Waste/ZeroWaste-Dataset/val...\n",
            "Contents: ['labels.json', 'sem_seg', 'data', 'labels', 'data.cache']\n",
            "📂 Checking /content/drive/MyDrive/Zero_Waste/ZeroWaste-Dataset/test...\n",
            "Contents: ['labels.json', 'sem_seg', 'data', 'labels']\n"
          ]
        }
      ]
    },
    {
      "cell_type": "code",
      "source": [
        "for split in splits:\n",
        "    labels_folder = os.path.join(dataset_path, split, \"labels\")\n",
        "    print(f\"\\n📂 Checking labels in {labels_folder}...\")\n",
        "\n",
        "    if os.path.exists(labels_folder):\n",
        "        files = os.listdir(labels_folder)\n",
        "        if len(files) > 0:\n",
        "            print(f\"✅ Found {len(files)} labels. Sample: {files[:10]}\")  # Show first 10 files\n",
        "        else:\n",
        "            print(\"❌ No label files found! The folder is empty.\")\n",
        "    else:\n",
        "        print(\"❌ Labels folder does not exist!\")"
      ],
      "metadata": {
        "id": "HgJgTtAqV7au",
        "outputId": "5091c49b-c811-4de3-9d23-d33ad66d0814",
        "colab": {
          "base_uri": "https://localhost:8080/"
        }
      },
      "execution_count": 6,
      "outputs": [
        {
          "output_type": "stream",
          "name": "stdout",
          "text": [
            "\n",
            "📂 Checking labels in /content/drive/MyDrive/Zero_Waste/ZeroWaste-Dataset/train/labels...\n",
            "✅ Found 2947 labels. Sample: ['09_frame_028900.txt', '09_frame_029000.txt', '09_frame_029100.txt', '09_frame_029200.txt', '09_frame_029300.txt', '09_frame_029400.txt', '09_frame_029500.txt', '09_frame_029600.txt', '09_frame_029700.txt', '09_frame_029800.txt']\n",
            "\n",
            "📂 Checking labels in /content/drive/MyDrive/Zero_Waste/ZeroWaste-Dataset/val/labels...\n",
            "✅ Found 571 labels. Sample: ['04_frame_000001.txt', '04_frame_000011.txt', '04_frame_000021.txt', '04_frame_000031.txt', '04_frame_000041.txt', '04_frame_000051.txt', '04_frame_000061.txt', '04_frame_000071.txt', '04_frame_000081.txt', '04_frame_000091.txt']\n",
            "\n",
            "📂 Checking labels in /content/drive/MyDrive/Zero_Waste/ZeroWaste-Dataset/test/labels...\n",
            "✅ Found 899 labels. Sample: ['05_frame_000001.txt', '05_frame_000011.txt', '05_frame_000021.txt', '05_frame_000031.txt', '05_frame_000041.txt', '05_frame_000051.txt', '05_frame_000061.txt', '05_frame_000071.txt', '05_frame_000081.txt', '05_frame_000091.txt']\n"
          ]
        }
      ]
    },
    {
      "cell_type": "code",
      "source": [
        "# Pick a random label file from the train set\n",
        "sample_label_path = os.path.join(dataset_path, \"train/labels\", os.listdir(os.path.join(dataset_path, \"train/labels\"))[0])\n",
        "\n",
        "# Open and read the label file\n",
        "with open(sample_label_path, \"r\") as f:\n",
        "    print(f\"📂 Sample Label File ({sample_label_path}):\\n\")\n",
        "    print(f.read())"
      ],
      "metadata": {
        "id": "te8fWSVtWAqQ",
        "outputId": "ba1c687f-e6aa-4dc5-ffeb-debdf403d7f8",
        "colab": {
          "base_uri": "https://localhost:8080/"
        }
      },
      "execution_count": 7,
      "outputs": [
        {
          "output_type": "stream",
          "name": "stdout",
          "text": [
            "📂 Sample Label File (/content/drive/MyDrive/Zero_Waste/ZeroWaste-Dataset/train/labels/09_frame_028900.txt):\n",
            "\n",
            "1 0.10005208333333333 0.42453703703703705 0.20010416666666667 0.33055555555555555\n",
            "1 0.41924479166666667 0.3062962962962963 0.32671875 0.2737037037037037\n",
            "1 0.20299479166666667 0.5167592592592593 0.17973958333333334 0.34629629629629627\n",
            "3 0.1003125 0.48226851851851854 0.08020833333333334 0.1650925925925926\n",
            "3 0.283203125 0.5012037037037037 0.06546875 0.13148148148148148\n",
            "1 0.08661458333333334 0.6600462962962963 0.17322916666666668 0.274537037037037\n",
            "1 0.966015625 0.05115740740740741 0.06796875 0.10231481481481482\n",
            "1 0.44802083333333337 0.08791666666666667 0.25083333333333335 0.17583333333333334\n",
            "\n"
          ]
        }
      ]
    },
    {
      "cell_type": "code",
      "source": [
        "yaml_path = \"/content/drive/MyDrive/Zero_Waste/ZeroWaste-Dataset/garbage.yaml\"\n",
        "\n",
        "if os.path.exists(yaml_path):\n",
        "    print(\"✅ garbage.yaml found at:\", yaml_path)\n",
        "\n",
        "    with open(yaml_path, \"r\") as f:\n",
        "        print(\"\\n📂 garbage.yaml Contents:\\n\")\n",
        "        print(f.read())\n",
        "else:\n",
        "    print(\"❌ garbage.yaml file is missing!\")"
      ],
      "metadata": {
        "id": "fqd_efUtWI7-",
        "outputId": "d5e27e01-d57c-4fea-c71f-8a2972d14d5e",
        "colab": {
          "base_uri": "https://localhost:8080/"
        }
      },
      "execution_count": 8,
      "outputs": [
        {
          "output_type": "stream",
          "name": "stdout",
          "text": [
            "✅ garbage.yaml found at: /content/drive/MyDrive/Zero_Waste/ZeroWaste-Dataset/garbage.yaml\n",
            "\n",
            "📂 garbage.yaml Contents:\n",
            "\n",
            "train: /content/drive/MyDrive/Zero_Waste/ZeroWaste-Dataset/train/data\n",
            "val: /content/drive/MyDrive/Zero_Waste/ZeroWaste-Dataset/val/data\n",
            "test: /content/drive/MyDrive/Zero_Waste/ZeroWaste-Dataset/test/data\n",
            "\n",
            "nc: 4\n",
            "names: ['rigid_plastic', 'cardboard', 'metal', 'soft_plastic']\n",
            "\n"
          ]
        }
      ]
    },
    {
      "cell_type": "code",
      "source": [
        "import os\n",
        "\n",
        "# Define the path to the train labels folder\n",
        "train_labels_folder = \"/content/drive/MyDrive/Zero_Waste/ZeroWaste-Dataset/train/labels\"\n",
        "\n",
        "# Get a random label file\n",
        "sample_label_path = os.path.join(train_labels_folder, os.listdir(train_labels_folder)[0])\n",
        "\n",
        "# Open and read the label file\n",
        "with open(sample_label_path, \"r\") as f:\n",
        "    print(f\"📂 Sample Label File ({sample_label_path}):\\n\")\n",
        "    print(f.read())"
      ],
      "metadata": {
        "id": "NvhMbKdrYQdn",
        "outputId": "75c6cd85-ad07-4ca9-ce98-01cf2b386e7c",
        "colab": {
          "base_uri": "https://localhost:8080/"
        }
      },
      "execution_count": 11,
      "outputs": [
        {
          "output_type": "stream",
          "name": "stdout",
          "text": [
            "📂 Sample Label File (/content/drive/MyDrive/Zero_Waste/ZeroWaste-Dataset/train/labels/09_frame_028900.txt):\n",
            "\n",
            "1 0.10005208333333333 0.42453703703703705 0.20010416666666667 0.33055555555555555\n",
            "1 0.41924479166666667 0.3062962962962963 0.32671875 0.2737037037037037\n",
            "1 0.20299479166666667 0.5167592592592593 0.17973958333333334 0.34629629629629627\n",
            "3 0.1003125 0.48226851851851854 0.08020833333333334 0.1650925925925926\n",
            "3 0.283203125 0.5012037037037037 0.06546875 0.13148148148148148\n",
            "1 0.08661458333333334 0.6600462962962963 0.17322916666666668 0.274537037037037\n",
            "1 0.966015625 0.05115740740740741 0.06796875 0.10231481481481482\n",
            "1 0.44802083333333337 0.08791666666666667 0.25083333333333335 0.17583333333333334\n",
            "\n"
          ]
        }
      ]
    },
    {
      "cell_type": "code",
      "source": [
        "yaml_path = \"/content/drive/MyDrive/Zero_Waste/ZeroWaste-Dataset/garbage.yaml\"\n",
        "\n",
        "with open(yaml_path, \"r\") as f:\n",
        "    print(\"\\n📂 garbage.yaml Contents:\\n\")\n",
        "    print(f.read())"
      ],
      "metadata": {
        "id": "GjG45udbYZzR",
        "outputId": "d8fdafd7-da31-423c-aca8-c10b3725f38c",
        "colab": {
          "base_uri": "https://localhost:8080/"
        }
      },
      "execution_count": 12,
      "outputs": [
        {
          "output_type": "stream",
          "name": "stdout",
          "text": [
            "\n",
            "📂 garbage.yaml Contents:\n",
            "\n",
            "train: /content/drive/MyDrive/Zero_Waste/ZeroWaste-Dataset/train/data\n",
            "val: /content/drive/MyDrive/Zero_Waste/ZeroWaste-Dataset/val/data\n",
            "test: /content/drive/MyDrive/Zero_Waste/ZeroWaste-Dataset/test/data\n",
            "\n",
            "nc: 4\n",
            "names: ['rigid_plastic', 'cardboard', 'metal', 'soft_plastic']\n",
            "\n"
          ]
        }
      ]
    },
    {
      "cell_type": "code",
      "source": [
        "# Define paths\n",
        "train_images_folder = \"/content/drive/MyDrive/Zero_Waste/ZeroWaste-Dataset/train/data\"\n",
        "train_labels_folder = \"/content/drive/MyDrive/Zero_Waste/ZeroWaste-Dataset/train/labels\"\n",
        "\n",
        "# Get image and label filenames (without extensions)\n",
        "train_images = {os.path.splitext(f)[0] for f in os.listdir(train_images_folder)}\n",
        "train_labels = {os.path.splitext(f)[0] for f in os.listdir(train_labels_folder)}\n",
        "\n",
        "# Find missing labels or images\n",
        "missing_labels = train_images - train_labels  # Images without labels\n",
        "missing_images = train_labels - train_images  # Labels without images\n",
        "\n",
        "print(f\"\\n✅ Images with labels: {len(train_images & train_labels)}\")\n",
        "print(f\"❌ Images without labels: {len(missing_labels)}\")\n",
        "print(f\"❌ Labels without images: {len(missing_images)}\")\n",
        "\n",
        "# Show a few missing examples\n",
        "print(\"\\n📂 Missing Labels (Images without Labels):\", list(missing_labels)[:10])\n",
        "print(\"📂 Missing Images (Labels without Images):\", list(missing_images)[:10])"
      ],
      "metadata": {
        "id": "jIyObSqLYjVW",
        "outputId": "108381ae-21e5-4e29-95ab-76e81c9c0485",
        "colab": {
          "base_uri": "https://localhost:8080/"
        }
      },
      "execution_count": 13,
      "outputs": [
        {
          "output_type": "stream",
          "name": "stdout",
          "text": [
            "\n",
            "✅ Images with labels: 2947\n",
            "❌ Images without labels: 55\n",
            "❌ Labels without images: 0\n",
            "\n",
            "📂 Missing Labels (Images without Labels): ['10_frame_023900', '09_frame_002780', '09_frame_002800', '05_frame_005530', '09_frame_001110', '09_frame_002670', '04_frame_043000', '12_frame_000011', '09_frame_001130', '09_frame_002680']\n",
            "📂 Missing Images (Labels without Images): []\n"
          ]
        }
      ]
    },
    {
      "cell_type": "code",
      "source": [
        "# Define the train images folder\n",
        "train_images_folder = \"/content/drive/MyDrive/Zero_Waste/ZeroWaste-Dataset/train/data\"\n",
        "\n",
        "# List all unique image extensions\n",
        "extensions = set([os.path.splitext(f)[1] for f in os.listdir(train_images_folder)])\n",
        "print(\"📂 Image extensions found in dataset:\", extensions)"
      ],
      "metadata": {
        "id": "QPUju06JYtmO",
        "outputId": "4b944e19-5a58-4b49-d5be-527259de8fc8",
        "colab": {
          "base_uri": "https://localhost:8080/"
        }
      },
      "execution_count": 16,
      "outputs": [
        {
          "output_type": "stream",
          "name": "stdout",
          "text": [
            "📂 Image extensions found in dataset: {'.PNG'}\n"
          ]
        }
      ]
    },
    {
      "cell_type": "code",
      "source": [
        "# Define paths\n",
        "train_images_folder = \"/content/drive/MyDrive/Zero_Waste/ZeroWaste-Dataset/train/data\"\n",
        "train_labels_folder = \"/content/drive/MyDrive/Zero_Waste/ZeroWaste-Dataset/train/labels\"\n",
        "\n",
        "# Get image and label filenames (without extensions)\n",
        "train_images = {os.path.splitext(f)[0] for f in os.listdir(train_images_folder)}\n",
        "train_labels = {os.path.splitext(f)[0] for f in os.listdir(train_labels_folder)}\n",
        "\n",
        "# Find missing labels (Images without labels)\n",
        "missing_labels = train_images - train_labels  # Images that have no labels\n",
        "\n",
        "print(f\"❌ Total Images Without Labels: {len(missing_labels)}\")\n",
        "print(\"📂 Missing Images (Images without Labels):\", list(missing_labels))"
      ],
      "metadata": {
        "id": "wsfoXpOEZa6q",
        "outputId": "3ba0e832-dc34-4770-af56-62d415f5c0e1",
        "colab": {
          "base_uri": "https://localhost:8080/"
        }
      },
      "execution_count": 19,
      "outputs": [
        {
          "output_type": "stream",
          "name": "stdout",
          "text": [
            "❌ Total Images Without Labels: 55\n",
            "📂 Missing Images (Images without Labels): ['10_frame_023900', '09_frame_002780', '09_frame_002800', '05_frame_005530', '09_frame_001110', '09_frame_002670', '04_frame_043000', '12_frame_000011', '09_frame_001130', '09_frame_002680', '04_frame_047900', '09_frame_002190', '09_frame_002210', '10_frame_010800', '09_frame_001150', '09_frame_002730', '04_frame_031100', '09_frame_002640', '04_frame_031800', '07_frame_034400', '09_frame_002660', '07_frame_036800', '09_frame_001120', '07_frame_035400', '05_frame_005540', '09_frame_002790', '09_frame_001140', '05_frame_005550', '12_frame_000001', '09_frame_002200', '09_frame_002710', '05_frame_005520', '09_frame_002720', '04_frame_027200', '09_frame_002770', '09_frame_002760', '09_frame_002180', '09_frame_002700', '07_frame_033100', '09_frame_002810', '09_frame_002690', '09_frame_002650', '04_frame_048000', '09_frame_002750', '09_frame_002220', '05_frame_045900', '09_frame_001160', '09_frame_002740', '07_frame_043800', '07_frame_033000', '07_frame_036300', '10_frame_016600', '02_frame_001860', '09_frame_001100', '07_frame_035500']\n"
          ]
        }
      ]
    },
    {
      "cell_type": "code",
      "source": [
        "import os\n",
        "\n",
        "# Define the train images folder\n",
        "train_images_folder = \"/content/drive/MyDrive/Zero_Waste/ZeroWaste-Dataset/train/data\"\n",
        "\n",
        "# Get all file extensions in the train dataset\n",
        "extensions = set([os.path.splitext(f)[1] for f in os.listdir(train_images_folder)])\n",
        "\n",
        "print(\"📂 Image extensions found in dataset:\", extensions)"
      ],
      "metadata": {
        "id": "RvC65VNfaBue",
        "outputId": "0ffa0c17-a688-4a16-af93-01cdb32bd4d7",
        "colab": {
          "base_uri": "https://localhost:8080/"
        }
      },
      "execution_count": 24,
      "outputs": [
        {
          "output_type": "stream",
          "name": "stdout",
          "text": [
            "📂 Image extensions found in dataset: {'.PNG'}\n"
          ]
        }
      ]
    },
    {
      "cell_type": "code",
      "source": [
        "import os\n",
        "\n",
        "# Define the train images folder\n",
        "train_images_folder = \"/content/drive/MyDrive/Zero_Waste/ZeroWaste-Dataset/train/data\"\n",
        "\n",
        "# List all files in the train images folder\n",
        "all_files = os.listdir(train_images_folder)\n",
        "\n",
        "# Print actual paths for missing images\n",
        "for image_name in missing_labels:\n",
        "    file_name = image_name + \".PNG\"  # Since all images are .PNG\n",
        "    if file_name in all_files:\n",
        "        print(f\"🔍 Found file: {file_name} for {image_name}\")\n",
        "    else:\n",
        "        print(f\"❌ No file found for {image_name}\")"
      ],
      "metadata": {
        "id": "WFJWjuIjaLJb",
        "outputId": "8a926f4c-884d-4edb-e5dc-8310597e0f47",
        "colab": {
          "base_uri": "https://localhost:8080/"
        }
      },
      "execution_count": 25,
      "outputs": [
        {
          "output_type": "stream",
          "name": "stdout",
          "text": [
            "🔍 Found file: 10_frame_023900.PNG for 10_frame_023900\n",
            "🔍 Found file: 09_frame_002780.PNG for 09_frame_002780\n",
            "🔍 Found file: 09_frame_002800.PNG for 09_frame_002800\n",
            "🔍 Found file: 05_frame_005530.PNG for 05_frame_005530\n",
            "🔍 Found file: 09_frame_001110.PNG for 09_frame_001110\n",
            "🔍 Found file: 09_frame_002670.PNG for 09_frame_002670\n",
            "🔍 Found file: 04_frame_043000.PNG for 04_frame_043000\n",
            "🔍 Found file: 12_frame_000011.PNG for 12_frame_000011\n",
            "🔍 Found file: 09_frame_001130.PNG for 09_frame_001130\n",
            "🔍 Found file: 09_frame_002680.PNG for 09_frame_002680\n",
            "🔍 Found file: 04_frame_047900.PNG for 04_frame_047900\n",
            "🔍 Found file: 09_frame_002190.PNG for 09_frame_002190\n",
            "🔍 Found file: 09_frame_002210.PNG for 09_frame_002210\n",
            "🔍 Found file: 10_frame_010800.PNG for 10_frame_010800\n",
            "🔍 Found file: 09_frame_001150.PNG for 09_frame_001150\n",
            "🔍 Found file: 09_frame_002730.PNG for 09_frame_002730\n",
            "🔍 Found file: 04_frame_031100.PNG for 04_frame_031100\n",
            "🔍 Found file: 09_frame_002640.PNG for 09_frame_002640\n",
            "🔍 Found file: 04_frame_031800.PNG for 04_frame_031800\n",
            "🔍 Found file: 07_frame_034400.PNG for 07_frame_034400\n",
            "🔍 Found file: 09_frame_002660.PNG for 09_frame_002660\n",
            "🔍 Found file: 07_frame_036800.PNG for 07_frame_036800\n",
            "🔍 Found file: 09_frame_001120.PNG for 09_frame_001120\n",
            "🔍 Found file: 07_frame_035400.PNG for 07_frame_035400\n",
            "🔍 Found file: 05_frame_005540.PNG for 05_frame_005540\n",
            "🔍 Found file: 09_frame_002790.PNG for 09_frame_002790\n",
            "🔍 Found file: 09_frame_001140.PNG for 09_frame_001140\n",
            "🔍 Found file: 05_frame_005550.PNG for 05_frame_005550\n",
            "🔍 Found file: 12_frame_000001.PNG for 12_frame_000001\n",
            "🔍 Found file: 09_frame_002200.PNG for 09_frame_002200\n",
            "🔍 Found file: 09_frame_002710.PNG for 09_frame_002710\n",
            "🔍 Found file: 05_frame_005520.PNG for 05_frame_005520\n",
            "🔍 Found file: 09_frame_002720.PNG for 09_frame_002720\n",
            "🔍 Found file: 04_frame_027200.PNG for 04_frame_027200\n",
            "🔍 Found file: 09_frame_002770.PNG for 09_frame_002770\n",
            "🔍 Found file: 09_frame_002760.PNG for 09_frame_002760\n",
            "🔍 Found file: 09_frame_002180.PNG for 09_frame_002180\n",
            "🔍 Found file: 09_frame_002700.PNG for 09_frame_002700\n",
            "🔍 Found file: 07_frame_033100.PNG for 07_frame_033100\n",
            "🔍 Found file: 09_frame_002810.PNG for 09_frame_002810\n",
            "🔍 Found file: 09_frame_002690.PNG for 09_frame_002690\n",
            "🔍 Found file: 09_frame_002650.PNG for 09_frame_002650\n",
            "🔍 Found file: 04_frame_048000.PNG for 04_frame_048000\n",
            "🔍 Found file: 09_frame_002750.PNG for 09_frame_002750\n",
            "🔍 Found file: 09_frame_002220.PNG for 09_frame_002220\n",
            "🔍 Found file: 05_frame_045900.PNG for 05_frame_045900\n",
            "🔍 Found file: 09_frame_001160.PNG for 09_frame_001160\n",
            "🔍 Found file: 09_frame_002740.PNG for 09_frame_002740\n",
            "🔍 Found file: 07_frame_043800.PNG for 07_frame_043800\n",
            "🔍 Found file: 07_frame_033000.PNG for 07_frame_033000\n",
            "🔍 Found file: 07_frame_036300.PNG for 07_frame_036300\n",
            "🔍 Found file: 10_frame_016600.PNG for 10_frame_016600\n",
            "🔍 Found file: 02_frame_001860.PNG for 02_frame_001860\n",
            "🔍 Found file: 09_frame_001100.PNG for 09_frame_001100\n",
            "🔍 Found file: 07_frame_035500.PNG for 07_frame_035500\n"
          ]
        }
      ]
    },
    {
      "cell_type": "code",
      "source": [
        "# Force delete all missing images\n",
        "deleted_count = 0\n",
        "for image_name in missing_labels:\n",
        "    image_path = os.path.join(train_images_folder, image_name + \".PNG\")  # Correct extension\n",
        "    if os.path.exists(image_path):\n",
        "        os.remove(image_path)\n",
        "        print(f\"🗑️ Deleted: {image_path}\")\n",
        "        deleted_count += 1\n",
        "\n",
        "print(f\"✅ Deleted {deleted_count} images without labels!\")"
      ],
      "metadata": {
        "id": "dabCFAqgaPFV",
        "outputId": "de4676be-a12f-4197-cb68-4c393fe418fa",
        "colab": {
          "base_uri": "https://localhost:8080/"
        }
      },
      "execution_count": 26,
      "outputs": [
        {
          "output_type": "stream",
          "name": "stdout",
          "text": [
            "🗑️ Deleted: /content/drive/MyDrive/Zero_Waste/ZeroWaste-Dataset/train/data/10_frame_023900.PNG\n",
            "🗑️ Deleted: /content/drive/MyDrive/Zero_Waste/ZeroWaste-Dataset/train/data/09_frame_002780.PNG\n",
            "🗑️ Deleted: /content/drive/MyDrive/Zero_Waste/ZeroWaste-Dataset/train/data/09_frame_002800.PNG\n",
            "🗑️ Deleted: /content/drive/MyDrive/Zero_Waste/ZeroWaste-Dataset/train/data/05_frame_005530.PNG\n",
            "🗑️ Deleted: /content/drive/MyDrive/Zero_Waste/ZeroWaste-Dataset/train/data/09_frame_001110.PNG\n",
            "🗑️ Deleted: /content/drive/MyDrive/Zero_Waste/ZeroWaste-Dataset/train/data/09_frame_002670.PNG\n",
            "🗑️ Deleted: /content/drive/MyDrive/Zero_Waste/ZeroWaste-Dataset/train/data/04_frame_043000.PNG\n",
            "🗑️ Deleted: /content/drive/MyDrive/Zero_Waste/ZeroWaste-Dataset/train/data/12_frame_000011.PNG\n",
            "🗑️ Deleted: /content/drive/MyDrive/Zero_Waste/ZeroWaste-Dataset/train/data/09_frame_001130.PNG\n",
            "🗑️ Deleted: /content/drive/MyDrive/Zero_Waste/ZeroWaste-Dataset/train/data/09_frame_002680.PNG\n",
            "🗑️ Deleted: /content/drive/MyDrive/Zero_Waste/ZeroWaste-Dataset/train/data/04_frame_047900.PNG\n",
            "🗑️ Deleted: /content/drive/MyDrive/Zero_Waste/ZeroWaste-Dataset/train/data/09_frame_002190.PNG\n",
            "🗑️ Deleted: /content/drive/MyDrive/Zero_Waste/ZeroWaste-Dataset/train/data/09_frame_002210.PNG\n",
            "🗑️ Deleted: /content/drive/MyDrive/Zero_Waste/ZeroWaste-Dataset/train/data/10_frame_010800.PNG\n",
            "🗑️ Deleted: /content/drive/MyDrive/Zero_Waste/ZeroWaste-Dataset/train/data/09_frame_001150.PNG\n",
            "🗑️ Deleted: /content/drive/MyDrive/Zero_Waste/ZeroWaste-Dataset/train/data/09_frame_002730.PNG\n",
            "🗑️ Deleted: /content/drive/MyDrive/Zero_Waste/ZeroWaste-Dataset/train/data/04_frame_031100.PNG\n",
            "🗑️ Deleted: /content/drive/MyDrive/Zero_Waste/ZeroWaste-Dataset/train/data/09_frame_002640.PNG\n",
            "🗑️ Deleted: /content/drive/MyDrive/Zero_Waste/ZeroWaste-Dataset/train/data/04_frame_031800.PNG\n",
            "🗑️ Deleted: /content/drive/MyDrive/Zero_Waste/ZeroWaste-Dataset/train/data/07_frame_034400.PNG\n",
            "🗑️ Deleted: /content/drive/MyDrive/Zero_Waste/ZeroWaste-Dataset/train/data/09_frame_002660.PNG\n",
            "🗑️ Deleted: /content/drive/MyDrive/Zero_Waste/ZeroWaste-Dataset/train/data/07_frame_036800.PNG\n",
            "🗑️ Deleted: /content/drive/MyDrive/Zero_Waste/ZeroWaste-Dataset/train/data/09_frame_001120.PNG\n",
            "🗑️ Deleted: /content/drive/MyDrive/Zero_Waste/ZeroWaste-Dataset/train/data/07_frame_035400.PNG\n",
            "🗑️ Deleted: /content/drive/MyDrive/Zero_Waste/ZeroWaste-Dataset/train/data/05_frame_005540.PNG\n",
            "🗑️ Deleted: /content/drive/MyDrive/Zero_Waste/ZeroWaste-Dataset/train/data/09_frame_002790.PNG\n",
            "🗑️ Deleted: /content/drive/MyDrive/Zero_Waste/ZeroWaste-Dataset/train/data/09_frame_001140.PNG\n",
            "🗑️ Deleted: /content/drive/MyDrive/Zero_Waste/ZeroWaste-Dataset/train/data/05_frame_005550.PNG\n",
            "🗑️ Deleted: /content/drive/MyDrive/Zero_Waste/ZeroWaste-Dataset/train/data/12_frame_000001.PNG\n",
            "🗑️ Deleted: /content/drive/MyDrive/Zero_Waste/ZeroWaste-Dataset/train/data/09_frame_002200.PNG\n",
            "🗑️ Deleted: /content/drive/MyDrive/Zero_Waste/ZeroWaste-Dataset/train/data/09_frame_002710.PNG\n",
            "🗑️ Deleted: /content/drive/MyDrive/Zero_Waste/ZeroWaste-Dataset/train/data/05_frame_005520.PNG\n",
            "🗑️ Deleted: /content/drive/MyDrive/Zero_Waste/ZeroWaste-Dataset/train/data/09_frame_002720.PNG\n",
            "🗑️ Deleted: /content/drive/MyDrive/Zero_Waste/ZeroWaste-Dataset/train/data/04_frame_027200.PNG\n",
            "🗑️ Deleted: /content/drive/MyDrive/Zero_Waste/ZeroWaste-Dataset/train/data/09_frame_002770.PNG\n",
            "🗑️ Deleted: /content/drive/MyDrive/Zero_Waste/ZeroWaste-Dataset/train/data/09_frame_002760.PNG\n",
            "🗑️ Deleted: /content/drive/MyDrive/Zero_Waste/ZeroWaste-Dataset/train/data/09_frame_002180.PNG\n",
            "🗑️ Deleted: /content/drive/MyDrive/Zero_Waste/ZeroWaste-Dataset/train/data/09_frame_002700.PNG\n",
            "🗑️ Deleted: /content/drive/MyDrive/Zero_Waste/ZeroWaste-Dataset/train/data/07_frame_033100.PNG\n",
            "🗑️ Deleted: /content/drive/MyDrive/Zero_Waste/ZeroWaste-Dataset/train/data/09_frame_002810.PNG\n",
            "🗑️ Deleted: /content/drive/MyDrive/Zero_Waste/ZeroWaste-Dataset/train/data/09_frame_002690.PNG\n",
            "🗑️ Deleted: /content/drive/MyDrive/Zero_Waste/ZeroWaste-Dataset/train/data/09_frame_002650.PNG\n",
            "🗑️ Deleted: /content/drive/MyDrive/Zero_Waste/ZeroWaste-Dataset/train/data/04_frame_048000.PNG\n",
            "🗑️ Deleted: /content/drive/MyDrive/Zero_Waste/ZeroWaste-Dataset/train/data/09_frame_002750.PNG\n",
            "🗑️ Deleted: /content/drive/MyDrive/Zero_Waste/ZeroWaste-Dataset/train/data/09_frame_002220.PNG\n",
            "🗑️ Deleted: /content/drive/MyDrive/Zero_Waste/ZeroWaste-Dataset/train/data/05_frame_045900.PNG\n",
            "🗑️ Deleted: /content/drive/MyDrive/Zero_Waste/ZeroWaste-Dataset/train/data/09_frame_001160.PNG\n",
            "🗑️ Deleted: /content/drive/MyDrive/Zero_Waste/ZeroWaste-Dataset/train/data/09_frame_002740.PNG\n",
            "🗑️ Deleted: /content/drive/MyDrive/Zero_Waste/ZeroWaste-Dataset/train/data/07_frame_043800.PNG\n",
            "🗑️ Deleted: /content/drive/MyDrive/Zero_Waste/ZeroWaste-Dataset/train/data/07_frame_033000.PNG\n",
            "🗑️ Deleted: /content/drive/MyDrive/Zero_Waste/ZeroWaste-Dataset/train/data/07_frame_036300.PNG\n",
            "🗑️ Deleted: /content/drive/MyDrive/Zero_Waste/ZeroWaste-Dataset/train/data/10_frame_016600.PNG\n",
            "🗑️ Deleted: /content/drive/MyDrive/Zero_Waste/ZeroWaste-Dataset/train/data/02_frame_001860.PNG\n",
            "🗑️ Deleted: /content/drive/MyDrive/Zero_Waste/ZeroWaste-Dataset/train/data/09_frame_001100.PNG\n",
            "🗑️ Deleted: /content/drive/MyDrive/Zero_Waste/ZeroWaste-Dataset/train/data/07_frame_035500.PNG\n",
            "✅ Deleted 55 images without labels!\n"
          ]
        }
      ]
    },
    {
      "cell_type": "code",
      "source": [
        "# Define paths\n",
        "train_images_folder = \"/content/drive/MyDrive/Zero_Waste/ZeroWaste-Dataset/train/data\"\n",
        "train_labels_folder = \"/content/drive/MyDrive/Zero_Waste/ZeroWaste-Dataset/train/labels\"\n",
        "\n",
        "# Get image and label filenames (without extensions)\n",
        "train_images = {os.path.splitext(f)[0] for f in os.listdir(train_images_folder)}\n",
        "train_labels = {os.path.splitext(f)[0] for f in os.listdir(train_labels_folder)}\n",
        "\n",
        "# Find missing labels or images\n",
        "missing_labels = train_images - train_labels  # Images without labels\n",
        "missing_images = train_labels - train_images  # Labels without images\n",
        "\n",
        "print(f\"\\n✅ Images with labels: {len(train_images & train_labels)}\")\n",
        "print(f\"❌ Images without labels: {len(missing_labels)}\")  # Should be 0 now!\n",
        "print(f\"❌ Labels without images: {len(missing_images)}\")  # Should be 0 now!"
      ],
      "metadata": {
        "id": "S_fY-Rv0aaFa",
        "outputId": "8151bbc9-31de-4228-cedb-3a4f9b910a9d",
        "colab": {
          "base_uri": "https://localhost:8080/"
        }
      },
      "execution_count": 29,
      "outputs": [
        {
          "output_type": "stream",
          "name": "stdout",
          "text": [
            "\n",
            "✅ Images with labels: 2947\n",
            "❌ Images without labels: 0\n",
            "❌ Labels without images: 0\n"
          ]
        }
      ]
    },
    {
      "cell_type": "code",
      "source": [
        "# Define paths\n",
        "train_labels_folder = \"/content/drive/MyDrive/Zero_Waste/ZeroWaste-Dataset/train/labels\"\n",
        "val_labels_folder = \"/content/drive/MyDrive/Zero_Waste/ZeroWaste-Dataset/val/labels\"\n",
        "\n",
        "# Check if labels exist in train and val folders\n",
        "for folder in [train_labels_folder, val_labels_folder]:\n",
        "    print(f\"\\n📂 Checking {folder}...\")\n",
        "\n",
        "    if os.path.exists(folder):\n",
        "        files = os.listdir(folder)\n",
        "        if len(files) > 0:\n",
        "            print(f\"✅ Found {len(files)} labels. Sample: {files[:10]}\")  # Show first 10 files\n",
        "        else:\n",
        "            print(\"❌ No label files found! The folder is empty.\")\n",
        "    else:\n",
        "        print(\"❌ Labels folder does not exist!\")"
      ],
      "metadata": {
        "id": "2xnQ770sdrUd",
        "outputId": "847c2906-4087-4dca-9bf9-c3ce9231f763",
        "colab": {
          "base_uri": "https://localhost:8080/"
        }
      },
      "execution_count": 31,
      "outputs": [
        {
          "output_type": "stream",
          "name": "stdout",
          "text": [
            "\n",
            "📂 Checking /content/drive/MyDrive/Zero_Waste/ZeroWaste-Dataset/train/labels...\n",
            "✅ Found 2947 labels. Sample: ['09_frame_028900.txt', '09_frame_029000.txt', '09_frame_029100.txt', '09_frame_029200.txt', '09_frame_029300.txt', '09_frame_029400.txt', '09_frame_029500.txt', '09_frame_029600.txt', '09_frame_029700.txt', '09_frame_029800.txt']\n",
            "\n",
            "📂 Checking /content/drive/MyDrive/Zero_Waste/ZeroWaste-Dataset/val/labels...\n",
            "✅ Found 571 labels. Sample: ['04_frame_000001.txt', '04_frame_000011.txt', '04_frame_000021.txt', '04_frame_000031.txt', '04_frame_000041.txt', '04_frame_000051.txt', '04_frame_000061.txt', '04_frame_000071.txt', '04_frame_000081.txt', '04_frame_000091.txt']\n"
          ]
        }
      ]
    },
    {
      "cell_type": "code",
      "source": [
        "# Pick a random label file from train set and read its contents\n",
        "sample_label_path = os.path.join(train_labels_folder, os.listdir(train_labels_folder)[0])\n",
        "\n",
        "with open(sample_label_path, \"r\") as f:\n",
        "    print(f\"📂 Sample Label File ({sample_label_path}):\\n\")\n",
        "    print(f.read())"
      ],
      "metadata": {
        "id": "RRi44nq3d2dL",
        "outputId": "7486451e-8b86-44a6-bee6-671f74344e07",
        "colab": {
          "base_uri": "https://localhost:8080/"
        }
      },
      "execution_count": 32,
      "outputs": [
        {
          "output_type": "stream",
          "name": "stdout",
          "text": [
            "📂 Sample Label File (/content/drive/MyDrive/Zero_Waste/ZeroWaste-Dataset/train/labels/09_frame_028900.txt):\n",
            "\n",
            "1 0.10005208333333333 0.42453703703703705 0.20010416666666667 0.33055555555555555\n",
            "1 0.41924479166666667 0.3062962962962963 0.32671875 0.2737037037037037\n",
            "1 0.20299479166666667 0.5167592592592593 0.17973958333333334 0.34629629629629627\n",
            "3 0.1003125 0.48226851851851854 0.08020833333333334 0.1650925925925926\n",
            "3 0.283203125 0.5012037037037037 0.06546875 0.13148148148148148\n",
            "1 0.08661458333333334 0.6600462962962963 0.17322916666666668 0.274537037037037\n",
            "1 0.966015625 0.05115740740740741 0.06796875 0.10231481481481482\n",
            "1 0.44802083333333337 0.08791666666666667 0.25083333333333335 0.17583333333333334\n",
            "\n"
          ]
        }
      ]
    },
    {
      "cell_type": "code",
      "source": [
        "yaml_path = \"/content/drive/MyDrive/Zero_Waste/ZeroWaste-Dataset/garbage.yaml\"\n",
        "\n",
        "with open(yaml_path, \"r\") as f:\n",
        "    print(\"\\n📂 garbage.yaml Contents:\\n\")\n",
        "    print(f.read())"
      ],
      "metadata": {
        "id": "r4UsWGY-d_12",
        "outputId": "c798aabd-4f10-4db7-eafb-b9b24252762d",
        "colab": {
          "base_uri": "https://localhost:8080/"
        }
      },
      "execution_count": 33,
      "outputs": [
        {
          "output_type": "stream",
          "name": "stdout",
          "text": [
            "\n",
            "📂 garbage.yaml Contents:\n",
            "\n",
            "train: /content/drive/MyDrive/Zero_Waste/ZeroWaste-Dataset/train/data\n",
            "val: /content/drive/MyDrive/Zero_Waste/ZeroWaste-Dataset/val/data\n",
            "test: /content/drive/MyDrive/Zero_Waste/ZeroWaste-Dataset/test/data\n",
            "\n",
            "nc: 4\n",
            "names: ['rigid_plastic', 'cardboard', 'metal', 'soft_plastic']\n",
            "\n"
          ]
        }
      ]
    },
    {
      "cell_type": "code",
      "source": [
        "yaml_path = \"/content/drive/MyDrive/Zero_Waste/ZeroWaste-Dataset/garbage.yaml\"\n",
        "\n",
        "yaml_content = \"\"\"train: /content/drive/MyDrive/Zero_Waste/ZeroWaste-Dataset/train\n",
        "val: /content/drive/MyDrive/Zero_Waste/ZeroWaste-Dataset/val\n",
        "test: /content/drive/MyDrive/Zero_Waste/ZeroWaste-Dataset/test\n",
        "\n",
        "nc: 4\n",
        "names: ['rigid_plastic', 'cardboard', 'metal', 'soft_plastic']\n",
        "\"\"\"\n",
        "\n",
        "with open(yaml_path, \"w\") as f:\n",
        "    f.write(yaml_content)\n",
        "\n",
        "print(\"✅ garbage.yaml updated successfully!\")"
      ],
      "metadata": {
        "id": "34hRZXPzeIkK",
        "outputId": "afaca602-ed5e-47d1-b3ba-a8d9a9bda75c",
        "colab": {
          "base_uri": "https://localhost:8080/"
        }
      },
      "execution_count": 34,
      "outputs": [
        {
          "output_type": "stream",
          "name": "stdout",
          "text": [
            "✅ garbage.yaml updated successfully!\n"
          ]
        }
      ]
    },
    {
      "cell_type": "markdown",
      "source": [
        "## Train on YOLO"
      ],
      "metadata": {
        "id": "T7BQYnmeRPWl"
      }
    },
    {
      "cell_type": "code",
      "source": [
        "!pip install ultralytics"
      ],
      "metadata": {
        "colab": {
          "base_uri": "https://localhost:8080/"
        },
        "id": "JRTEPyTyRm82",
        "outputId": "d6ed81c2-4e85-417c-bf49-62903644b22f"
      },
      "execution_count": 9,
      "outputs": [
        {
          "output_type": "stream",
          "name": "stdout",
          "text": [
            "Collecting ultralytics\n",
            "  Downloading ultralytics-8.3.77-py3-none-any.whl.metadata (35 kB)\n",
            "Requirement already satisfied: numpy<=2.1.1,>=1.23.0 in /usr/local/lib/python3.11/dist-packages (from ultralytics) (1.26.4)\n",
            "Requirement already satisfied: matplotlib>=3.3.0 in /usr/local/lib/python3.11/dist-packages (from ultralytics) (3.10.0)\n",
            "Requirement already satisfied: opencv-python>=4.6.0 in /usr/local/lib/python3.11/dist-packages (from ultralytics) (4.11.0.86)\n",
            "Requirement already satisfied: pillow>=7.1.2 in /usr/local/lib/python3.11/dist-packages (from ultralytics) (11.1.0)\n",
            "Requirement already satisfied: pyyaml>=5.3.1 in /usr/local/lib/python3.11/dist-packages (from ultralytics) (6.0.2)\n",
            "Requirement already satisfied: requests>=2.23.0 in /usr/local/lib/python3.11/dist-packages (from ultralytics) (2.32.3)\n",
            "Requirement already satisfied: scipy>=1.4.1 in /usr/local/lib/python3.11/dist-packages (from ultralytics) (1.13.1)\n",
            "Requirement already satisfied: torch>=1.8.0 in /usr/local/lib/python3.11/dist-packages (from ultralytics) (2.5.1+cu124)\n",
            "Requirement already satisfied: torchvision>=0.9.0 in /usr/local/lib/python3.11/dist-packages (from ultralytics) (0.20.1+cu124)\n",
            "Requirement already satisfied: tqdm>=4.64.0 in /usr/local/lib/python3.11/dist-packages (from ultralytics) (4.67.1)\n",
            "Requirement already satisfied: psutil in /usr/local/lib/python3.11/dist-packages (from ultralytics) (5.9.5)\n",
            "Requirement already satisfied: py-cpuinfo in /usr/local/lib/python3.11/dist-packages (from ultralytics) (9.0.0)\n",
            "Requirement already satisfied: pandas>=1.1.4 in /usr/local/lib/python3.11/dist-packages (from ultralytics) (2.2.2)\n",
            "Requirement already satisfied: seaborn>=0.11.0 in /usr/local/lib/python3.11/dist-packages (from ultralytics) (0.13.2)\n",
            "Collecting ultralytics-thop>=2.0.0 (from ultralytics)\n",
            "  Downloading ultralytics_thop-2.0.14-py3-none-any.whl.metadata (9.4 kB)\n",
            "Requirement already satisfied: contourpy>=1.0.1 in /usr/local/lib/python3.11/dist-packages (from matplotlib>=3.3.0->ultralytics) (1.3.1)\n",
            "Requirement already satisfied: cycler>=0.10 in /usr/local/lib/python3.11/dist-packages (from matplotlib>=3.3.0->ultralytics) (0.12.1)\n",
            "Requirement already satisfied: fonttools>=4.22.0 in /usr/local/lib/python3.11/dist-packages (from matplotlib>=3.3.0->ultralytics) (4.56.0)\n",
            "Requirement already satisfied: kiwisolver>=1.3.1 in /usr/local/lib/python3.11/dist-packages (from matplotlib>=3.3.0->ultralytics) (1.4.8)\n",
            "Requirement already satisfied: packaging>=20.0 in /usr/local/lib/python3.11/dist-packages (from matplotlib>=3.3.0->ultralytics) (24.2)\n",
            "Requirement already satisfied: pyparsing>=2.3.1 in /usr/local/lib/python3.11/dist-packages (from matplotlib>=3.3.0->ultralytics) (3.2.1)\n",
            "Requirement already satisfied: python-dateutil>=2.7 in /usr/local/lib/python3.11/dist-packages (from matplotlib>=3.3.0->ultralytics) (2.8.2)\n",
            "Requirement already satisfied: pytz>=2020.1 in /usr/local/lib/python3.11/dist-packages (from pandas>=1.1.4->ultralytics) (2025.1)\n",
            "Requirement already satisfied: tzdata>=2022.7 in /usr/local/lib/python3.11/dist-packages (from pandas>=1.1.4->ultralytics) (2025.1)\n",
            "Requirement already satisfied: charset-normalizer<4,>=2 in /usr/local/lib/python3.11/dist-packages (from requests>=2.23.0->ultralytics) (3.4.1)\n",
            "Requirement already satisfied: idna<4,>=2.5 in /usr/local/lib/python3.11/dist-packages (from requests>=2.23.0->ultralytics) (3.10)\n",
            "Requirement already satisfied: urllib3<3,>=1.21.1 in /usr/local/lib/python3.11/dist-packages (from requests>=2.23.0->ultralytics) (2.3.0)\n",
            "Requirement already satisfied: certifi>=2017.4.17 in /usr/local/lib/python3.11/dist-packages (from requests>=2.23.0->ultralytics) (2025.1.31)\n",
            "Requirement already satisfied: filelock in /usr/local/lib/python3.11/dist-packages (from torch>=1.8.0->ultralytics) (3.17.0)\n",
            "Requirement already satisfied: typing-extensions>=4.8.0 in /usr/local/lib/python3.11/dist-packages (from torch>=1.8.0->ultralytics) (4.12.2)\n",
            "Requirement already satisfied: networkx in /usr/local/lib/python3.11/dist-packages (from torch>=1.8.0->ultralytics) (3.4.2)\n",
            "Requirement already satisfied: jinja2 in /usr/local/lib/python3.11/dist-packages (from torch>=1.8.0->ultralytics) (3.1.5)\n",
            "Requirement already satisfied: fsspec in /usr/local/lib/python3.11/dist-packages (from torch>=1.8.0->ultralytics) (2024.10.0)\n",
            "Collecting nvidia-cuda-nvrtc-cu12==12.4.127 (from torch>=1.8.0->ultralytics)\n",
            "  Downloading nvidia_cuda_nvrtc_cu12-12.4.127-py3-none-manylinux2014_x86_64.whl.metadata (1.5 kB)\n",
            "Collecting nvidia-cuda-runtime-cu12==12.4.127 (from torch>=1.8.0->ultralytics)\n",
            "  Downloading nvidia_cuda_runtime_cu12-12.4.127-py3-none-manylinux2014_x86_64.whl.metadata (1.5 kB)\n",
            "Collecting nvidia-cuda-cupti-cu12==12.4.127 (from torch>=1.8.0->ultralytics)\n",
            "  Downloading nvidia_cuda_cupti_cu12-12.4.127-py3-none-manylinux2014_x86_64.whl.metadata (1.6 kB)\n",
            "Collecting nvidia-cudnn-cu12==9.1.0.70 (from torch>=1.8.0->ultralytics)\n",
            "  Downloading nvidia_cudnn_cu12-9.1.0.70-py3-none-manylinux2014_x86_64.whl.metadata (1.6 kB)\n",
            "Collecting nvidia-cublas-cu12==12.4.5.8 (from torch>=1.8.0->ultralytics)\n",
            "  Downloading nvidia_cublas_cu12-12.4.5.8-py3-none-manylinux2014_x86_64.whl.metadata (1.5 kB)\n",
            "Collecting nvidia-cufft-cu12==11.2.1.3 (from torch>=1.8.0->ultralytics)\n",
            "  Downloading nvidia_cufft_cu12-11.2.1.3-py3-none-manylinux2014_x86_64.whl.metadata (1.5 kB)\n",
            "Collecting nvidia-curand-cu12==10.3.5.147 (from torch>=1.8.0->ultralytics)\n",
            "  Downloading nvidia_curand_cu12-10.3.5.147-py3-none-manylinux2014_x86_64.whl.metadata (1.5 kB)\n",
            "Collecting nvidia-cusolver-cu12==11.6.1.9 (from torch>=1.8.0->ultralytics)\n",
            "  Downloading nvidia_cusolver_cu12-11.6.1.9-py3-none-manylinux2014_x86_64.whl.metadata (1.6 kB)\n",
            "Collecting nvidia-cusparse-cu12==12.3.1.170 (from torch>=1.8.0->ultralytics)\n",
            "  Downloading nvidia_cusparse_cu12-12.3.1.170-py3-none-manylinux2014_x86_64.whl.metadata (1.6 kB)\n",
            "Requirement already satisfied: nvidia-nccl-cu12==2.21.5 in /usr/local/lib/python3.11/dist-packages (from torch>=1.8.0->ultralytics) (2.21.5)\n",
            "Requirement already satisfied: nvidia-nvtx-cu12==12.4.127 in /usr/local/lib/python3.11/dist-packages (from torch>=1.8.0->ultralytics) (12.4.127)\n",
            "Collecting nvidia-nvjitlink-cu12==12.4.127 (from torch>=1.8.0->ultralytics)\n",
            "  Downloading nvidia_nvjitlink_cu12-12.4.127-py3-none-manylinux2014_x86_64.whl.metadata (1.5 kB)\n",
            "Requirement already satisfied: triton==3.1.0 in /usr/local/lib/python3.11/dist-packages (from torch>=1.8.0->ultralytics) (3.1.0)\n",
            "Requirement already satisfied: sympy==1.13.1 in /usr/local/lib/python3.11/dist-packages (from torch>=1.8.0->ultralytics) (1.13.1)\n",
            "Requirement already satisfied: mpmath<1.4,>=1.1.0 in /usr/local/lib/python3.11/dist-packages (from sympy==1.13.1->torch>=1.8.0->ultralytics) (1.3.0)\n",
            "Requirement already satisfied: six>=1.5 in /usr/local/lib/python3.11/dist-packages (from python-dateutil>=2.7->matplotlib>=3.3.0->ultralytics) (1.17.0)\n",
            "Requirement already satisfied: MarkupSafe>=2.0 in /usr/local/lib/python3.11/dist-packages (from jinja2->torch>=1.8.0->ultralytics) (3.0.2)\n",
            "Downloading ultralytics-8.3.77-py3-none-any.whl (915 kB)\n",
            "\u001b[2K   \u001b[90m━━━━━━━━━━━━━━━━━━━━━━━━━━━━━━━━━━━━━━━━\u001b[0m \u001b[32m915.3/915.3 kB\u001b[0m \u001b[31m44.5 MB/s\u001b[0m eta \u001b[36m0:00:00\u001b[0m\n",
            "\u001b[?25hDownloading nvidia_cublas_cu12-12.4.5.8-py3-none-manylinux2014_x86_64.whl (363.4 MB)\n",
            "\u001b[2K   \u001b[90m━━━━━━━━━━━━━━━━━━━━━━━━━━━━━━━━━━━━━━━━\u001b[0m \u001b[32m363.4/363.4 MB\u001b[0m \u001b[31m5.3 MB/s\u001b[0m eta \u001b[36m0:00:00\u001b[0m\n",
            "\u001b[?25hDownloading nvidia_cuda_cupti_cu12-12.4.127-py3-none-manylinux2014_x86_64.whl (13.8 MB)\n",
            "\u001b[2K   \u001b[90m━━━━━━━━━━━━━━━━━━━━━━━━━━━━━━━━━━━━━━━━\u001b[0m \u001b[32m13.8/13.8 MB\u001b[0m \u001b[31m111.2 MB/s\u001b[0m eta \u001b[36m0:00:00\u001b[0m\n",
            "\u001b[?25hDownloading nvidia_cuda_nvrtc_cu12-12.4.127-py3-none-manylinux2014_x86_64.whl (24.6 MB)\n",
            "\u001b[2K   \u001b[90m━━━━━━━━━━━━━━━━━━━━━━━━━━━━━━━━━━━━━━━━\u001b[0m \u001b[32m24.6/24.6 MB\u001b[0m \u001b[31m85.4 MB/s\u001b[0m eta \u001b[36m0:00:00\u001b[0m\n",
            "\u001b[?25hDownloading nvidia_cuda_runtime_cu12-12.4.127-py3-none-manylinux2014_x86_64.whl (883 kB)\n",
            "\u001b[2K   \u001b[90m━━━━━━━━━━━━━━━━━━━━━━━━━━━━━━━━━━━━━━━━\u001b[0m \u001b[32m883.7/883.7 kB\u001b[0m \u001b[31m55.7 MB/s\u001b[0m eta \u001b[36m0:00:00\u001b[0m\n",
            "\u001b[?25hDownloading nvidia_cudnn_cu12-9.1.0.70-py3-none-manylinux2014_x86_64.whl (664.8 MB)\n",
            "\u001b[2K   \u001b[90m━━━━━━━━━━━━━━━━━━━━━━━━━━━━━━━━━━━━━━━━\u001b[0m \u001b[32m664.8/664.8 MB\u001b[0m \u001b[31m2.1 MB/s\u001b[0m eta \u001b[36m0:00:00\u001b[0m\n",
            "\u001b[?25hDownloading nvidia_cufft_cu12-11.2.1.3-py3-none-manylinux2014_x86_64.whl (211.5 MB)\n",
            "\u001b[2K   \u001b[90m━━━━━━━━━━━━━━━━━━━━━━━━━━━━━━━━━━━━━━━━\u001b[0m \u001b[32m211.5/211.5 MB\u001b[0m \u001b[31m5.3 MB/s\u001b[0m eta \u001b[36m0:00:00\u001b[0m\n",
            "\u001b[?25hDownloading nvidia_curand_cu12-10.3.5.147-py3-none-manylinux2014_x86_64.whl (56.3 MB)\n",
            "\u001b[2K   \u001b[90m━━━━━━━━━━━━━━━━━━━━━━━━━━━━━━━━━━━━━━━━\u001b[0m \u001b[32m56.3/56.3 MB\u001b[0m \u001b[31m12.6 MB/s\u001b[0m eta \u001b[36m0:00:00\u001b[0m\n",
            "\u001b[?25hDownloading nvidia_cusolver_cu12-11.6.1.9-py3-none-manylinux2014_x86_64.whl (127.9 MB)\n",
            "\u001b[2K   \u001b[90m━━━━━━━━━━━━━━━━━━━━━━━━━━━━━━━━━━━━━━━━\u001b[0m \u001b[32m127.9/127.9 MB\u001b[0m \u001b[31m7.3 MB/s\u001b[0m eta \u001b[36m0:00:00\u001b[0m\n",
            "\u001b[?25hDownloading nvidia_cusparse_cu12-12.3.1.170-py3-none-manylinux2014_x86_64.whl (207.5 MB)\n",
            "\u001b[2K   \u001b[90m━━━━━━━━━━━━━━━━━━━━━━━━━━━━━━━━━━━━━━━━\u001b[0m \u001b[32m207.5/207.5 MB\u001b[0m \u001b[31m6.4 MB/s\u001b[0m eta \u001b[36m0:00:00\u001b[0m\n",
            "\u001b[?25hDownloading nvidia_nvjitlink_cu12-12.4.127-py3-none-manylinux2014_x86_64.whl (21.1 MB)\n",
            "\u001b[2K   \u001b[90m━━━━━━━━━━━━━━━━━━━━━━━━━━━━━━━━━━━━━━━━\u001b[0m \u001b[32m21.1/21.1 MB\u001b[0m \u001b[31m64.0 MB/s\u001b[0m eta \u001b[36m0:00:00\u001b[0m\n",
            "\u001b[?25hDownloading ultralytics_thop-2.0.14-py3-none-any.whl (26 kB)\n",
            "Installing collected packages: nvidia-nvjitlink-cu12, nvidia-curand-cu12, nvidia-cufft-cu12, nvidia-cuda-runtime-cu12, nvidia-cuda-nvrtc-cu12, nvidia-cuda-cupti-cu12, nvidia-cublas-cu12, nvidia-cusparse-cu12, nvidia-cudnn-cu12, nvidia-cusolver-cu12, ultralytics-thop, ultralytics\n",
            "  Attempting uninstall: nvidia-nvjitlink-cu12\n",
            "    Found existing installation: nvidia-nvjitlink-cu12 12.5.82\n",
            "    Uninstalling nvidia-nvjitlink-cu12-12.5.82:\n",
            "      Successfully uninstalled nvidia-nvjitlink-cu12-12.5.82\n",
            "  Attempting uninstall: nvidia-curand-cu12\n",
            "    Found existing installation: nvidia-curand-cu12 10.3.6.82\n",
            "    Uninstalling nvidia-curand-cu12-10.3.6.82:\n",
            "      Successfully uninstalled nvidia-curand-cu12-10.3.6.82\n",
            "  Attempting uninstall: nvidia-cufft-cu12\n",
            "    Found existing installation: nvidia-cufft-cu12 11.2.3.61\n",
            "    Uninstalling nvidia-cufft-cu12-11.2.3.61:\n",
            "      Successfully uninstalled nvidia-cufft-cu12-11.2.3.61\n",
            "  Attempting uninstall: nvidia-cuda-runtime-cu12\n",
            "    Found existing installation: nvidia-cuda-runtime-cu12 12.5.82\n",
            "    Uninstalling nvidia-cuda-runtime-cu12-12.5.82:\n",
            "      Successfully uninstalled nvidia-cuda-runtime-cu12-12.5.82\n",
            "  Attempting uninstall: nvidia-cuda-nvrtc-cu12\n",
            "    Found existing installation: nvidia-cuda-nvrtc-cu12 12.5.82\n",
            "    Uninstalling nvidia-cuda-nvrtc-cu12-12.5.82:\n",
            "      Successfully uninstalled nvidia-cuda-nvrtc-cu12-12.5.82\n",
            "  Attempting uninstall: nvidia-cuda-cupti-cu12\n",
            "    Found existing installation: nvidia-cuda-cupti-cu12 12.5.82\n",
            "    Uninstalling nvidia-cuda-cupti-cu12-12.5.82:\n",
            "      Successfully uninstalled nvidia-cuda-cupti-cu12-12.5.82\n",
            "  Attempting uninstall: nvidia-cublas-cu12\n",
            "    Found existing installation: nvidia-cublas-cu12 12.5.3.2\n",
            "    Uninstalling nvidia-cublas-cu12-12.5.3.2:\n",
            "      Successfully uninstalled nvidia-cublas-cu12-12.5.3.2\n",
            "  Attempting uninstall: nvidia-cusparse-cu12\n",
            "    Found existing installation: nvidia-cusparse-cu12 12.5.1.3\n",
            "    Uninstalling nvidia-cusparse-cu12-12.5.1.3:\n",
            "      Successfully uninstalled nvidia-cusparse-cu12-12.5.1.3\n",
            "  Attempting uninstall: nvidia-cudnn-cu12\n",
            "    Found existing installation: nvidia-cudnn-cu12 9.3.0.75\n",
            "    Uninstalling nvidia-cudnn-cu12-9.3.0.75:\n",
            "      Successfully uninstalled nvidia-cudnn-cu12-9.3.0.75\n",
            "  Attempting uninstall: nvidia-cusolver-cu12\n",
            "    Found existing installation: nvidia-cusolver-cu12 11.6.3.83\n",
            "    Uninstalling nvidia-cusolver-cu12-11.6.3.83:\n",
            "      Successfully uninstalled nvidia-cusolver-cu12-11.6.3.83\n",
            "Successfully installed nvidia-cublas-cu12-12.4.5.8 nvidia-cuda-cupti-cu12-12.4.127 nvidia-cuda-nvrtc-cu12-12.4.127 nvidia-cuda-runtime-cu12-12.4.127 nvidia-cudnn-cu12-9.1.0.70 nvidia-cufft-cu12-11.2.1.3 nvidia-curand-cu12-10.3.5.147 nvidia-cusolver-cu12-11.6.1.9 nvidia-cusparse-cu12-12.3.1.170 nvidia-nvjitlink-cu12-12.4.127 ultralytics-8.3.77 ultralytics-thop-2.0.14\n"
          ]
        }
      ]
    },
    {
      "cell_type": "code",
      "source": [
        "from ultralytics import YOLO\n",
        "\n",
        "# Load YOLOv10 model\n",
        "model = YOLO(\"yolov10n.pt\")\n",
        "\n",
        "# Start training again\n",
        "results = model.train(\n",
        "    data=\"/content/drive/MyDrive/Zero_Waste/ZeroWaste-Dataset/garbage.yaml\",\n",
        "    epochs=50,\n",
        "    imgsz=640,\n",
        "    batch=16,\n",
        "    device=\"cuda\"\n",
        ")"
      ],
      "metadata": {
        "colab": {
          "base_uri": "https://localhost:8080/"
        },
        "id": "c3W5IGz7Re-k",
        "outputId": "c4324f85-fdc4-46c1-94b5-2d29aa06c10d"
      },
      "execution_count": null,
      "outputs": [
        {
          "output_type": "stream",
          "name": "stdout",
          "text": [
            "Ultralytics 8.3.77 🚀 Python-3.11.11 torch-2.5.1+cu124 CUDA:0 (Tesla T4, 15095MiB)\n",
            "\u001b[34m\u001b[1mengine/trainer: \u001b[0mtask=detect, mode=train, model=yolov10n.pt, data=/content/drive/MyDrive/Zero_Waste/ZeroWaste-Dataset/garbage.yaml, epochs=50, time=None, patience=100, batch=16, imgsz=640, save=True, save_period=-1, cache=False, device=cuda, workers=8, project=None, name=train3, exist_ok=False, pretrained=True, optimizer=auto, verbose=True, seed=0, deterministic=True, single_cls=False, rect=False, cos_lr=False, close_mosaic=10, resume=False, amp=True, fraction=1.0, profile=False, freeze=None, multi_scale=False, overlap_mask=True, mask_ratio=4, dropout=0.0, val=True, split=val, save_json=False, save_hybrid=False, conf=None, iou=0.7, max_det=300, half=False, dnn=False, plots=True, source=None, vid_stride=1, stream_buffer=False, visualize=False, augment=False, agnostic_nms=False, classes=None, retina_masks=False, embed=None, show=False, save_frames=False, save_txt=False, save_conf=False, save_crop=False, show_labels=True, show_conf=True, show_boxes=True, line_width=None, format=torchscript, keras=False, optimize=False, int8=False, dynamic=False, simplify=True, opset=None, workspace=None, nms=False, lr0=0.01, lrf=0.01, momentum=0.937, weight_decay=0.0005, warmup_epochs=3.0, warmup_momentum=0.8, warmup_bias_lr=0.1, box=7.5, cls=0.5, dfl=1.5, pose=12.0, kobj=1.0, nbs=64, hsv_h=0.015, hsv_s=0.7, hsv_v=0.4, degrees=0.0, translate=0.1, scale=0.5, shear=0.0, perspective=0.0, flipud=0.0, fliplr=0.5, bgr=0.0, mosaic=1.0, mixup=0.0, copy_paste=0.0, copy_paste_mode=flip, auto_augment=randaugment, erasing=0.4, crop_fraction=1.0, cfg=None, tracker=botsort.yaml, save_dir=runs/detect/train3\n",
            "Overriding model.yaml nc=80 with nc=4\n",
            "\n",
            "                   from  n    params  module                                       arguments                     \n",
            "  0                  -1  1       464  ultralytics.nn.modules.conv.Conv             [3, 16, 3, 2]                 \n",
            "  1                  -1  1      4672  ultralytics.nn.modules.conv.Conv             [16, 32, 3, 2]                \n",
            "  2                  -1  1      7360  ultralytics.nn.modules.block.C2f             [32, 32, 1, True]             \n",
            "  3                  -1  1     18560  ultralytics.nn.modules.conv.Conv             [32, 64, 3, 2]                \n",
            "  4                  -1  2     49664  ultralytics.nn.modules.block.C2f             [64, 64, 2, True]             \n",
            "  5                  -1  1      9856  ultralytics.nn.modules.block.SCDown          [64, 128, 3, 2]               \n",
            "  6                  -1  2    197632  ultralytics.nn.modules.block.C2f             [128, 128, 2, True]           \n",
            "  7                  -1  1     36096  ultralytics.nn.modules.block.SCDown          [128, 256, 3, 2]              \n",
            "  8                  -1  1    460288  ultralytics.nn.modules.block.C2f             [256, 256, 1, True]           \n",
            "  9                  -1  1    164608  ultralytics.nn.modules.block.SPPF            [256, 256, 5]                 \n",
            " 10                  -1  1    249728  ultralytics.nn.modules.block.PSA             [256, 256]                    \n",
            " 11                  -1  1         0  torch.nn.modules.upsampling.Upsample         [None, 2, 'nearest']          \n",
            " 12             [-1, 6]  1         0  ultralytics.nn.modules.conv.Concat           [1]                           \n",
            " 13                  -1  1    148224  ultralytics.nn.modules.block.C2f             [384, 128, 1]                 \n",
            " 14                  -1  1         0  torch.nn.modules.upsampling.Upsample         [None, 2, 'nearest']          \n",
            " 15             [-1, 4]  1         0  ultralytics.nn.modules.conv.Concat           [1]                           \n",
            " 16                  -1  1     37248  ultralytics.nn.modules.block.C2f             [192, 64, 1]                  \n",
            " 17                  -1  1     36992  ultralytics.nn.modules.conv.Conv             [64, 64, 3, 2]                \n",
            " 18            [-1, 13]  1         0  ultralytics.nn.modules.conv.Concat           [1]                           \n",
            " 19                  -1  1    123648  ultralytics.nn.modules.block.C2f             [192, 128, 1]                 \n",
            " 20                  -1  1     18048  ultralytics.nn.modules.block.SCDown          [128, 128, 3, 2]              \n",
            " 21            [-1, 10]  1         0  ultralytics.nn.modules.conv.Concat           [1]                           \n",
            " 22                  -1  1    282624  ultralytics.nn.modules.block.C2fCIB          [384, 256, 1, True, True]     \n",
            " 23        [16, 19, 22]  1    862888  ultralytics.nn.modules.head.v10Detect        [4, [64, 128, 256]]           \n",
            "YOLOv10n summary: 223 layers, 2,708,600 parameters, 2,708,584 gradients, 8.4 GFLOPs\n",
            "\n",
            "Transferred 493/595 items from pretrained weights\n",
            "\u001b[34m\u001b[1mTensorBoard: \u001b[0mStart with 'tensorboard --logdir runs/detect/train3', view at http://localhost:6006/\n",
            "Freezing layer 'model.23.dfl.conv.weight'\n",
            "\u001b[34m\u001b[1mAMP: \u001b[0mrunning Automatic Mixed Precision (AMP) checks...\n",
            "\u001b[34m\u001b[1mAMP: \u001b[0mchecks passed ✅\n"
          ]
        },
        {
          "output_type": "stream",
          "name": "stderr",
          "text": [
            "\u001b[34m\u001b[1mtrain: \u001b[0mScanning /content/drive/MyDrive/Zero_Waste/ZeroWaste-Dataset/train/data... 0 images, 3457 backgrounds, 0 corrupt:  58%|█████▊    | 3457/5949 [07:50<31:49,  1.31it/s]"
          ]
        }
      ]
    }
  ]
}